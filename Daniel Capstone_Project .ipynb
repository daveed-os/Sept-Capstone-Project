{
  "cells": [
    {
      "cell_type": "code",
      "execution_count": null,
      "metadata": {
        "id": "uZl-OSgxXa8H"
      },
      "outputs": [],
      "source": [
        "\n",
        "import pandas as pd\n",
        "import matplotlib.pyplot as plt\n",
        "import numpy as np\n",
        "import feature_engine as fe\n",
        "import seaborn as sns\n"
      ]
    },
    {
      "cell_type": "code",
      "execution_count": null,
      "metadata": {
        "colab": {
          "base_uri": "https://localhost:8080/"
        },
        "id": "AOhl-oaRQMDr",
        "outputId": "f36d852c-ba56-42ce-f8b6-85fd6916f7d2"
      },
      "outputs": [
        {
          "output_type": "stream",
          "name": "stdout",
          "text": [
            "Collecting feature-engine\n",
            "  Downloading feature_engine-1.8.2-py2.py3-none-any.whl.metadata (9.9 kB)\n",
            "Requirement already satisfied: numpy>=1.18.2 in /usr/local/lib/python3.10/dist-packages (from feature-engine) (1.26.4)\n",
            "Requirement already satisfied: pandas>=2.2.0 in /usr/local/lib/python3.10/dist-packages (from feature-engine) (2.2.2)\n",
            "Requirement already satisfied: scikit-learn>=1.4.0 in /usr/local/lib/python3.10/dist-packages (from feature-engine) (1.5.2)\n",
            "Requirement already satisfied: scipy>=1.4.1 in /usr/local/lib/python3.10/dist-packages (from feature-engine) (1.13.1)\n",
            "Requirement already satisfied: statsmodels>=0.11.1 in /usr/local/lib/python3.10/dist-packages (from feature-engine) (0.14.4)\n",
            "Requirement already satisfied: python-dateutil>=2.8.2 in /usr/local/lib/python3.10/dist-packages (from pandas>=2.2.0->feature-engine) (2.8.2)\n",
            "Requirement already satisfied: pytz>=2020.1 in /usr/local/lib/python3.10/dist-packages (from pandas>=2.2.0->feature-engine) (2024.2)\n",
            "Requirement already satisfied: tzdata>=2022.7 in /usr/local/lib/python3.10/dist-packages (from pandas>=2.2.0->feature-engine) (2024.2)\n",
            "Requirement already satisfied: joblib>=1.2.0 in /usr/local/lib/python3.10/dist-packages (from scikit-learn>=1.4.0->feature-engine) (1.4.2)\n",
            "Requirement already satisfied: threadpoolctl>=3.1.0 in /usr/local/lib/python3.10/dist-packages (from scikit-learn>=1.4.0->feature-engine) (3.5.0)\n",
            "Requirement already satisfied: patsy>=0.5.6 in /usr/local/lib/python3.10/dist-packages (from statsmodels>=0.11.1->feature-engine) (1.0.1)\n",
            "Requirement already satisfied: packaging>=21.3 in /usr/local/lib/python3.10/dist-packages (from statsmodels>=0.11.1->feature-engine) (24.2)\n",
            "Requirement already satisfied: six>=1.5 in /usr/local/lib/python3.10/dist-packages (from python-dateutil>=2.8.2->pandas>=2.2.0->feature-engine) (1.16.0)\n",
            "Downloading feature_engine-1.8.2-py2.py3-none-any.whl (374 kB)\n",
            "\u001b[2K   \u001b[90m━━━━━━━━━━━━━━━━━━━━━━━━━━━━━━━━━━━━━━━━\u001b[0m \u001b[32m375.0/375.0 kB\u001b[0m \u001b[31m5.0 MB/s\u001b[0m eta \u001b[36m0:00:00\u001b[0m\n",
            "\u001b[?25hInstalling collected packages: feature-engine\n",
            "Successfully installed feature-engine-1.8.2\n"
          ]
        }
      ],
      "source": [
        "!pip install feature-engine"
      ]
    },
    {
      "cell_type": "code",
      "execution_count": null,
      "metadata": {
        "colab": {
          "base_uri": "https://localhost:8080/",
          "height": 241
        },
        "id": "7HgS8wvcYdFk",
        "outputId": "358b2666-fcf2-4bb5-d59e-fe77e469dd83"
      },
      "outputs": [
        {
          "output_type": "execute_result",
          "data": {
            "text/plain": [
              "           ID Policy Start Date Policy End Date  Gender  Age  \\\n",
              "0  ID_0040R73        2010-05-14      2011-05-13    Male   30   \n",
              "1  ID_0046BNK        2010-11-29      2011-11-28  Female   79   \n",
              "2  ID_005QMC3        2010-03-21      2011-03-20    Male   43   \n",
              "3  ID_0079OHW        2010-08-21      2011-08-20    Male    2   \n",
              "4  ID_00BRP63        2010-08-29      2010-12-31  Entity   20   \n",
              "\n",
              "  First Transaction Date  No_Pol Car_Category Subject_Car_Colour  \\\n",
              "0             2010-05-14       1       Saloon              Black   \n",
              "1             2010-11-29       1         JEEP               Grey   \n",
              "2             2010-03-21       1       Saloon                Red   \n",
              "3             2010-08-21       1          NaN                NaN   \n",
              "4             2010-08-29       3          NaN                NaN   \n",
              "\n",
              "  Subject_Car_Make LGA_Name  State  ProductName  target  \n",
              "0           TOYOTA      NaN    NaN  Car Classic       0  \n",
              "1           TOYOTA      NaN    NaN  Car Classic       1  \n",
              "2           TOYOTA      NaN    NaN  Car Classic       0  \n",
              "3              NaN      NaN    NaN      CarSafe       0  \n",
              "4              NaN    Lagos  Lagos        Muuve       1  "
            ],
            "text/html": [
              "\n",
              "  <div id=\"df-ee932145-622c-4d19-a8ac-fd9ed66b499c\" class=\"colab-df-container\">\n",
              "    <div>\n",
              "<style scoped>\n",
              "    .dataframe tbody tr th:only-of-type {\n",
              "        vertical-align: middle;\n",
              "    }\n",
              "\n",
              "    .dataframe tbody tr th {\n",
              "        vertical-align: top;\n",
              "    }\n",
              "\n",
              "    .dataframe thead th {\n",
              "        text-align: right;\n",
              "    }\n",
              "</style>\n",
              "<table border=\"1\" class=\"dataframe\">\n",
              "  <thead>\n",
              "    <tr style=\"text-align: right;\">\n",
              "      <th></th>\n",
              "      <th>ID</th>\n",
              "      <th>Policy Start Date</th>\n",
              "      <th>Policy End Date</th>\n",
              "      <th>Gender</th>\n",
              "      <th>Age</th>\n",
              "      <th>First Transaction Date</th>\n",
              "      <th>No_Pol</th>\n",
              "      <th>Car_Category</th>\n",
              "      <th>Subject_Car_Colour</th>\n",
              "      <th>Subject_Car_Make</th>\n",
              "      <th>LGA_Name</th>\n",
              "      <th>State</th>\n",
              "      <th>ProductName</th>\n",
              "      <th>target</th>\n",
              "    </tr>\n",
              "  </thead>\n",
              "  <tbody>\n",
              "    <tr>\n",
              "      <th>0</th>\n",
              "      <td>ID_0040R73</td>\n",
              "      <td>2010-05-14</td>\n",
              "      <td>2011-05-13</td>\n",
              "      <td>Male</td>\n",
              "      <td>30</td>\n",
              "      <td>2010-05-14</td>\n",
              "      <td>1</td>\n",
              "      <td>Saloon</td>\n",
              "      <td>Black</td>\n",
              "      <td>TOYOTA</td>\n",
              "      <td>NaN</td>\n",
              "      <td>NaN</td>\n",
              "      <td>Car Classic</td>\n",
              "      <td>0</td>\n",
              "    </tr>\n",
              "    <tr>\n",
              "      <th>1</th>\n",
              "      <td>ID_0046BNK</td>\n",
              "      <td>2010-11-29</td>\n",
              "      <td>2011-11-28</td>\n",
              "      <td>Female</td>\n",
              "      <td>79</td>\n",
              "      <td>2010-11-29</td>\n",
              "      <td>1</td>\n",
              "      <td>JEEP</td>\n",
              "      <td>Grey</td>\n",
              "      <td>TOYOTA</td>\n",
              "      <td>NaN</td>\n",
              "      <td>NaN</td>\n",
              "      <td>Car Classic</td>\n",
              "      <td>1</td>\n",
              "    </tr>\n",
              "    <tr>\n",
              "      <th>2</th>\n",
              "      <td>ID_005QMC3</td>\n",
              "      <td>2010-03-21</td>\n",
              "      <td>2011-03-20</td>\n",
              "      <td>Male</td>\n",
              "      <td>43</td>\n",
              "      <td>2010-03-21</td>\n",
              "      <td>1</td>\n",
              "      <td>Saloon</td>\n",
              "      <td>Red</td>\n",
              "      <td>TOYOTA</td>\n",
              "      <td>NaN</td>\n",
              "      <td>NaN</td>\n",
              "      <td>Car Classic</td>\n",
              "      <td>0</td>\n",
              "    </tr>\n",
              "    <tr>\n",
              "      <th>3</th>\n",
              "      <td>ID_0079OHW</td>\n",
              "      <td>2010-08-21</td>\n",
              "      <td>2011-08-20</td>\n",
              "      <td>Male</td>\n",
              "      <td>2</td>\n",
              "      <td>2010-08-21</td>\n",
              "      <td>1</td>\n",
              "      <td>NaN</td>\n",
              "      <td>NaN</td>\n",
              "      <td>NaN</td>\n",
              "      <td>NaN</td>\n",
              "      <td>NaN</td>\n",
              "      <td>CarSafe</td>\n",
              "      <td>0</td>\n",
              "    </tr>\n",
              "    <tr>\n",
              "      <th>4</th>\n",
              "      <td>ID_00BRP63</td>\n",
              "      <td>2010-08-29</td>\n",
              "      <td>2010-12-31</td>\n",
              "      <td>Entity</td>\n",
              "      <td>20</td>\n",
              "      <td>2010-08-29</td>\n",
              "      <td>3</td>\n",
              "      <td>NaN</td>\n",
              "      <td>NaN</td>\n",
              "      <td>NaN</td>\n",
              "      <td>Lagos</td>\n",
              "      <td>Lagos</td>\n",
              "      <td>Muuve</td>\n",
              "      <td>1</td>\n",
              "    </tr>\n",
              "  </tbody>\n",
              "</table>\n",
              "</div>\n",
              "    <div class=\"colab-df-buttons\">\n",
              "\n",
              "  <div class=\"colab-df-container\">\n",
              "    <button class=\"colab-df-convert\" onclick=\"convertToInteractive('df-ee932145-622c-4d19-a8ac-fd9ed66b499c')\"\n",
              "            title=\"Convert this dataframe to an interactive table.\"\n",
              "            style=\"display:none;\">\n",
              "\n",
              "  <svg xmlns=\"http://www.w3.org/2000/svg\" height=\"24px\" viewBox=\"0 -960 960 960\">\n",
              "    <path d=\"M120-120v-720h720v720H120Zm60-500h600v-160H180v160Zm220 220h160v-160H400v160Zm0 220h160v-160H400v160ZM180-400h160v-160H180v160Zm440 0h160v-160H620v160ZM180-180h160v-160H180v160Zm440 0h160v-160H620v160Z\"/>\n",
              "  </svg>\n",
              "    </button>\n",
              "\n",
              "  <style>\n",
              "    .colab-df-container {\n",
              "      display:flex;\n",
              "      gap: 12px;\n",
              "    }\n",
              "\n",
              "    .colab-df-convert {\n",
              "      background-color: #E8F0FE;\n",
              "      border: none;\n",
              "      border-radius: 50%;\n",
              "      cursor: pointer;\n",
              "      display: none;\n",
              "      fill: #1967D2;\n",
              "      height: 32px;\n",
              "      padding: 0 0 0 0;\n",
              "      width: 32px;\n",
              "    }\n",
              "\n",
              "    .colab-df-convert:hover {\n",
              "      background-color: #E2EBFA;\n",
              "      box-shadow: 0px 1px 2px rgba(60, 64, 67, 0.3), 0px 1px 3px 1px rgba(60, 64, 67, 0.15);\n",
              "      fill: #174EA6;\n",
              "    }\n",
              "\n",
              "    .colab-df-buttons div {\n",
              "      margin-bottom: 4px;\n",
              "    }\n",
              "\n",
              "    [theme=dark] .colab-df-convert {\n",
              "      background-color: #3B4455;\n",
              "      fill: #D2E3FC;\n",
              "    }\n",
              "\n",
              "    [theme=dark] .colab-df-convert:hover {\n",
              "      background-color: #434B5C;\n",
              "      box-shadow: 0px 1px 3px 1px rgba(0, 0, 0, 0.15);\n",
              "      filter: drop-shadow(0px 1px 2px rgba(0, 0, 0, 0.3));\n",
              "      fill: #FFFFFF;\n",
              "    }\n",
              "  </style>\n",
              "\n",
              "    <script>\n",
              "      const buttonEl =\n",
              "        document.querySelector('#df-ee932145-622c-4d19-a8ac-fd9ed66b499c button.colab-df-convert');\n",
              "      buttonEl.style.display =\n",
              "        google.colab.kernel.accessAllowed ? 'block' : 'none';\n",
              "\n",
              "      async function convertToInteractive(key) {\n",
              "        const element = document.querySelector('#df-ee932145-622c-4d19-a8ac-fd9ed66b499c');\n",
              "        const dataTable =\n",
              "          await google.colab.kernel.invokeFunction('convertToInteractive',\n",
              "                                                    [key], {});\n",
              "        if (!dataTable) return;\n",
              "\n",
              "        const docLinkHtml = 'Like what you see? Visit the ' +\n",
              "          '<a target=\"_blank\" href=https://colab.research.google.com/notebooks/data_table.ipynb>data table notebook</a>'\n",
              "          + ' to learn more about interactive tables.';\n",
              "        element.innerHTML = '';\n",
              "        dataTable['output_type'] = 'display_data';\n",
              "        await google.colab.output.renderOutput(dataTable, element);\n",
              "        const docLink = document.createElement('div');\n",
              "        docLink.innerHTML = docLinkHtml;\n",
              "        element.appendChild(docLink);\n",
              "      }\n",
              "    </script>\n",
              "  </div>\n",
              "\n",
              "\n",
              "<div id=\"df-9e225a01-a84f-4460-827a-ea6177f4f003\">\n",
              "  <button class=\"colab-df-quickchart\" onclick=\"quickchart('df-9e225a01-a84f-4460-827a-ea6177f4f003')\"\n",
              "            title=\"Suggest charts\"\n",
              "            style=\"display:none;\">\n",
              "\n",
              "<svg xmlns=\"http://www.w3.org/2000/svg\" height=\"24px\"viewBox=\"0 0 24 24\"\n",
              "     width=\"24px\">\n",
              "    <g>\n",
              "        <path d=\"M19 3H5c-1.1 0-2 .9-2 2v14c0 1.1.9 2 2 2h14c1.1 0 2-.9 2-2V5c0-1.1-.9-2-2-2zM9 17H7v-7h2v7zm4 0h-2V7h2v10zm4 0h-2v-4h2v4z\"/>\n",
              "    </g>\n",
              "</svg>\n",
              "  </button>\n",
              "\n",
              "<style>\n",
              "  .colab-df-quickchart {\n",
              "      --bg-color: #E8F0FE;\n",
              "      --fill-color: #1967D2;\n",
              "      --hover-bg-color: #E2EBFA;\n",
              "      --hover-fill-color: #174EA6;\n",
              "      --disabled-fill-color: #AAA;\n",
              "      --disabled-bg-color: #DDD;\n",
              "  }\n",
              "\n",
              "  [theme=dark] .colab-df-quickchart {\n",
              "      --bg-color: #3B4455;\n",
              "      --fill-color: #D2E3FC;\n",
              "      --hover-bg-color: #434B5C;\n",
              "      --hover-fill-color: #FFFFFF;\n",
              "      --disabled-bg-color: #3B4455;\n",
              "      --disabled-fill-color: #666;\n",
              "  }\n",
              "\n",
              "  .colab-df-quickchart {\n",
              "    background-color: var(--bg-color);\n",
              "    border: none;\n",
              "    border-radius: 50%;\n",
              "    cursor: pointer;\n",
              "    display: none;\n",
              "    fill: var(--fill-color);\n",
              "    height: 32px;\n",
              "    padding: 0;\n",
              "    width: 32px;\n",
              "  }\n",
              "\n",
              "  .colab-df-quickchart:hover {\n",
              "    background-color: var(--hover-bg-color);\n",
              "    box-shadow: 0 1px 2px rgba(60, 64, 67, 0.3), 0 1px 3px 1px rgba(60, 64, 67, 0.15);\n",
              "    fill: var(--button-hover-fill-color);\n",
              "  }\n",
              "\n",
              "  .colab-df-quickchart-complete:disabled,\n",
              "  .colab-df-quickchart-complete:disabled:hover {\n",
              "    background-color: var(--disabled-bg-color);\n",
              "    fill: var(--disabled-fill-color);\n",
              "    box-shadow: none;\n",
              "  }\n",
              "\n",
              "  .colab-df-spinner {\n",
              "    border: 2px solid var(--fill-color);\n",
              "    border-color: transparent;\n",
              "    border-bottom-color: var(--fill-color);\n",
              "    animation:\n",
              "      spin 1s steps(1) infinite;\n",
              "  }\n",
              "\n",
              "  @keyframes spin {\n",
              "    0% {\n",
              "      border-color: transparent;\n",
              "      border-bottom-color: var(--fill-color);\n",
              "      border-left-color: var(--fill-color);\n",
              "    }\n",
              "    20% {\n",
              "      border-color: transparent;\n",
              "      border-left-color: var(--fill-color);\n",
              "      border-top-color: var(--fill-color);\n",
              "    }\n",
              "    30% {\n",
              "      border-color: transparent;\n",
              "      border-left-color: var(--fill-color);\n",
              "      border-top-color: var(--fill-color);\n",
              "      border-right-color: var(--fill-color);\n",
              "    }\n",
              "    40% {\n",
              "      border-color: transparent;\n",
              "      border-right-color: var(--fill-color);\n",
              "      border-top-color: var(--fill-color);\n",
              "    }\n",
              "    60% {\n",
              "      border-color: transparent;\n",
              "      border-right-color: var(--fill-color);\n",
              "    }\n",
              "    80% {\n",
              "      border-color: transparent;\n",
              "      border-right-color: var(--fill-color);\n",
              "      border-bottom-color: var(--fill-color);\n",
              "    }\n",
              "    90% {\n",
              "      border-color: transparent;\n",
              "      border-bottom-color: var(--fill-color);\n",
              "    }\n",
              "  }\n",
              "</style>\n",
              "\n",
              "  <script>\n",
              "    async function quickchart(key) {\n",
              "      const quickchartButtonEl =\n",
              "        document.querySelector('#' + key + ' button');\n",
              "      quickchartButtonEl.disabled = true;  // To prevent multiple clicks.\n",
              "      quickchartButtonEl.classList.add('colab-df-spinner');\n",
              "      try {\n",
              "        const charts = await google.colab.kernel.invokeFunction(\n",
              "            'suggestCharts', [key], {});\n",
              "      } catch (error) {\n",
              "        console.error('Error during call to suggestCharts:', error);\n",
              "      }\n",
              "      quickchartButtonEl.classList.remove('colab-df-spinner');\n",
              "      quickchartButtonEl.classList.add('colab-df-quickchart-complete');\n",
              "    }\n",
              "    (() => {\n",
              "      let quickchartButtonEl =\n",
              "        document.querySelector('#df-9e225a01-a84f-4460-827a-ea6177f4f003 button');\n",
              "      quickchartButtonEl.style.display =\n",
              "        google.colab.kernel.accessAllowed ? 'block' : 'none';\n",
              "    })();\n",
              "  </script>\n",
              "</div>\n",
              "\n",
              "    </div>\n",
              "  </div>\n"
            ],
            "application/vnd.google.colaboratory.intrinsic+json": {
              "type": "dataframe",
              "variable_name": "ins",
              "summary": "{\n  \"name\": \"ins\",\n  \"rows\": 12079,\n  \"fields\": [\n    {\n      \"column\": \"ID\",\n      \"properties\": {\n        \"dtype\": \"string\",\n        \"num_unique_values\": 12079,\n        \"samples\": [\n          \"ID_UTXD5OT\",\n          \"ID_SZ9DVM5\",\n          \"ID_8NKEH20\"\n        ],\n        \"semantic_type\": \"\",\n        \"description\": \"\"\n      }\n    },\n    {\n      \"column\": \"Policy Start Date\",\n      \"properties\": {\n        \"dtype\": \"object\",\n        \"num_unique_values\": 376,\n        \"samples\": [\n          \"2010-06-13\",\n          \"2010-03-17\",\n          \"2010-07-16\"\n        ],\n        \"semantic_type\": \"\",\n        \"description\": \"\"\n      }\n    },\n    {\n      \"column\": \"Policy End Date\",\n      \"properties\": {\n        \"dtype\": \"object\",\n        \"num_unique_values\": 372,\n        \"samples\": [\n          \"2011-09-01\",\n          \"2011-06-19\",\n          \"2011-11-05\"\n        ],\n        \"semantic_type\": \"\",\n        \"description\": \"\"\n      }\n    },\n    {\n      \"column\": \"Gender\",\n      \"properties\": {\n        \"dtype\": \"category\",\n        \"num_unique_values\": 7,\n        \"samples\": [\n          \"Male\",\n          \"Female\",\n          \"NOT STATED\"\n        ],\n        \"semantic_type\": \"\",\n        \"description\": \"\"\n      }\n    },\n    {\n      \"column\": \"Age\",\n      \"properties\": {\n        \"dtype\": \"number\",\n        \"std\": 97,\n        \"min\": -6099,\n        \"max\": 320,\n        \"num_unique_values\": 110,\n        \"samples\": [\n          74,\n          51,\n          20\n        ],\n        \"semantic_type\": \"\",\n        \"description\": \"\"\n      }\n    },\n    {\n      \"column\": \"First Transaction Date\",\n      \"properties\": {\n        \"dtype\": \"object\",\n        \"num_unique_values\": 376,\n        \"samples\": [\n          \"2010-06-13\",\n          \"2010-03-17\",\n          \"2010-07-16\"\n        ],\n        \"semantic_type\": \"\",\n        \"description\": \"\"\n      }\n    },\n    {\n      \"column\": \"No_Pol\",\n      \"properties\": {\n        \"dtype\": \"number\",\n        \"std\": 0,\n        \"min\": 1,\n        \"max\": 10,\n        \"num_unique_values\": 8,\n        \"samples\": [\n          3,\n          7,\n          1\n        ],\n        \"semantic_type\": \"\",\n        \"description\": \"\"\n      }\n    },\n    {\n      \"column\": \"Car_Category\",\n      \"properties\": {\n        \"dtype\": \"category\",\n        \"num_unique_values\": 16,\n        \"samples\": [\n          \"Saloon\",\n          \"JEEP\",\n          \"Mini Bus\"\n        ],\n        \"semantic_type\": \"\",\n        \"description\": \"\"\n      }\n    },\n    {\n      \"column\": \"Subject_Car_Colour\",\n      \"properties\": {\n        \"dtype\": \"category\",\n        \"num_unique_values\": 45,\n        \"samples\": [\n          \"Black & Orange\",\n          \"Yellow\",\n          \"Red & White\"\n        ],\n        \"semantic_type\": \"\",\n        \"description\": \"\"\n      }\n    },\n    {\n      \"column\": \"Subject_Car_Make\",\n      \"properties\": {\n        \"dtype\": \"category\",\n        \"num_unique_values\": 74,\n        \"samples\": [\n          \"Iveco\",\n          \"Tata\",\n          \"Scania\"\n        ],\n        \"semantic_type\": \"\",\n        \"description\": \"\"\n      }\n    },\n    {\n      \"column\": \"LGA_Name\",\n      \"properties\": {\n        \"dtype\": \"category\",\n        \"num_unique_values\": 258,\n        \"samples\": [\n          \"Kaduna North\",\n          \"Katagum\",\n          \"Abuja Municipal\"\n        ],\n        \"semantic_type\": \"\",\n        \"description\": \"\"\n      }\n    },\n    {\n      \"column\": \"State\",\n      \"properties\": {\n        \"dtype\": \"category\",\n        \"num_unique_values\": 111,\n        \"samples\": [\n          \"Bayelsa\",\n          \"Ibadan-East\",\n          \"Ogun\"\n        ],\n        \"semantic_type\": \"\",\n        \"description\": \"\"\n      }\n    },\n    {\n      \"column\": \"ProductName\",\n      \"properties\": {\n        \"dtype\": \"category\",\n        \"num_unique_values\": 9,\n        \"samples\": [\n          \"CarFlex\",\n          \"CarSafe\",\n          \"Motor Cycle\"\n        ],\n        \"semantic_type\": \"\",\n        \"description\": \"\"\n      }\n    },\n    {\n      \"column\": \"target\",\n      \"properties\": {\n        \"dtype\": \"number\",\n        \"std\": 0,\n        \"min\": 0,\n        \"max\": 1,\n        \"num_unique_values\": 2,\n        \"samples\": [\n          1,\n          0\n        ],\n        \"semantic_type\": \"\",\n        \"description\": \"\"\n      }\n    }\n  ]\n}"
            }
          },
          "metadata": {},
          "execution_count": 4
        }
      ],
      "source": [
        "ins=pd.read_csv('/content/drive/MyDrive/Data Analysis/Insurance_data.csv')\n",
        "ins.head()"
      ]
    },
    {
      "cell_type": "code",
      "execution_count": null,
      "metadata": {
        "colab": {
          "base_uri": "https://localhost:8080/"
        },
        "id": "2MzexgfkYk0o",
        "outputId": "a07d6ee7-c2bf-4421-d888-49716dd3bc0e"
      },
      "outputs": [
        {
          "name": "stdout",
          "output_type": "stream",
          "text": [
            "<class 'pandas.core.frame.DataFrame'>\n",
            "RangeIndex: 12079 entries, 0 to 12078\n",
            "Data columns (total 14 columns):\n",
            " #   Column                  Non-Null Count  Dtype \n",
            "---  ------                  --------------  ----- \n",
            " 0   ID                      12079 non-null  object\n",
            " 1   Policy Start Date       12079 non-null  object\n",
            " 2   Policy End Date         12079 non-null  object\n",
            " 3   Gender                  11720 non-null  object\n",
            " 4   Age                     12079 non-null  int64 \n",
            " 5   First Transaction Date  12079 non-null  object\n",
            " 6   No_Pol                  12079 non-null  int64 \n",
            " 7   Car_Category            8341 non-null   object\n",
            " 8   Subject_Car_Colour      5117 non-null   object\n",
            " 9   Subject_Car_Make        9603 non-null   object\n",
            " 10  LGA_Name                5603 non-null   object\n",
            " 11  State                   5591 non-null   object\n",
            " 12  ProductName             12079 non-null  object\n",
            " 13  target                  12079 non-null  int64 \n",
            "dtypes: int64(3), object(11)\n",
            "memory usage: 1.3+ MB\n"
          ]
        }
      ],
      "source": [
        "ins.info()"
      ]
    },
    {
      "cell_type": "code",
      "execution_count": null,
      "metadata": {
        "colab": {
          "base_uri": "https://localhost:8080/",
          "height": 523
        },
        "id": "Y6zzS9rC-JC5",
        "outputId": "9ce700b7-f254-4c83-8c73-323b397e081f"
      },
      "outputs": [
        {
          "output_type": "execute_result",
          "data": {
            "text/plain": [
              "ID                           0\n",
              "Policy Start Date            0\n",
              "Policy End Date              0\n",
              "Gender                     359\n",
              "Age                          0\n",
              "First Transaction Date       0\n",
              "No_Pol                       0\n",
              "Car_Category              3738\n",
              "Subject_Car_Colour        6962\n",
              "Subject_Car_Make          2476\n",
              "LGA_Name                  6476\n",
              "State                     6488\n",
              "ProductName                  0\n",
              "target                       0\n",
              "dtype: int64"
            ],
            "text/html": [
              "<div>\n",
              "<style scoped>\n",
              "    .dataframe tbody tr th:only-of-type {\n",
              "        vertical-align: middle;\n",
              "    }\n",
              "\n",
              "    .dataframe tbody tr th {\n",
              "        vertical-align: top;\n",
              "    }\n",
              "\n",
              "    .dataframe thead th {\n",
              "        text-align: right;\n",
              "    }\n",
              "</style>\n",
              "<table border=\"1\" class=\"dataframe\">\n",
              "  <thead>\n",
              "    <tr style=\"text-align: right;\">\n",
              "      <th></th>\n",
              "      <th>0</th>\n",
              "    </tr>\n",
              "  </thead>\n",
              "  <tbody>\n",
              "    <tr>\n",
              "      <th>ID</th>\n",
              "      <td>0</td>\n",
              "    </tr>\n",
              "    <tr>\n",
              "      <th>Policy Start Date</th>\n",
              "      <td>0</td>\n",
              "    </tr>\n",
              "    <tr>\n",
              "      <th>Policy End Date</th>\n",
              "      <td>0</td>\n",
              "    </tr>\n",
              "    <tr>\n",
              "      <th>Gender</th>\n",
              "      <td>359</td>\n",
              "    </tr>\n",
              "    <tr>\n",
              "      <th>Age</th>\n",
              "      <td>0</td>\n",
              "    </tr>\n",
              "    <tr>\n",
              "      <th>First Transaction Date</th>\n",
              "      <td>0</td>\n",
              "    </tr>\n",
              "    <tr>\n",
              "      <th>No_Pol</th>\n",
              "      <td>0</td>\n",
              "    </tr>\n",
              "    <tr>\n",
              "      <th>Car_Category</th>\n",
              "      <td>3738</td>\n",
              "    </tr>\n",
              "    <tr>\n",
              "      <th>Subject_Car_Colour</th>\n",
              "      <td>6962</td>\n",
              "    </tr>\n",
              "    <tr>\n",
              "      <th>Subject_Car_Make</th>\n",
              "      <td>2476</td>\n",
              "    </tr>\n",
              "    <tr>\n",
              "      <th>LGA_Name</th>\n",
              "      <td>6476</td>\n",
              "    </tr>\n",
              "    <tr>\n",
              "      <th>State</th>\n",
              "      <td>6488</td>\n",
              "    </tr>\n",
              "    <tr>\n",
              "      <th>ProductName</th>\n",
              "      <td>0</td>\n",
              "    </tr>\n",
              "    <tr>\n",
              "      <th>target</th>\n",
              "      <td>0</td>\n",
              "    </tr>\n",
              "  </tbody>\n",
              "</table>\n",
              "</div><br><label><b>dtype:</b> int64</label>"
            ]
          },
          "metadata": {},
          "execution_count": 4
        }
      ],
      "source": [
        "ins.isnull().sum()"
      ]
    },
    {
      "cell_type": "code",
      "execution_count": null,
      "metadata": {
        "colab": {
          "base_uri": "https://localhost:8080/"
        },
        "id": "BHUcpWh8-apr",
        "outputId": "93fb2767-571e-462f-b1a3-a6398fbb832b"
      },
      "outputs": [
        {
          "output_type": "stream",
          "name": "stdout",
          "text": [
            "The distribution class of target variable 0 and 1  is \n",
            " target\n",
            "0    10624\n",
            "1     1455\n",
            "Name: count, dtype: int64\n",
            " The percentage  of target variable 0 and 1 in the dataset is \n",
            " target\n",
            "0    87.954301\n",
            "1    12.045699\n",
            "Name: proportion, dtype: float64\n"
          ]
        }
      ],
      "source": [
        "#Question 1 : What is the distribution of the target variable (classification outcome)?\n",
        "targ_dist = ins['target'].value_counts()\n",
        "print (f'The distribution class of target variable 0 and 1  is \\n {targ_dist}')\n",
        "targ_per = ins['target'].value_counts(normalize=True)*100\n",
        "\n",
        "print (f' The percentage  of target variable 0 and 1 in the dataset is \\n {targ_per}')"
      ]
    },
    {
      "cell_type": "code",
      "execution_count": null,
      "metadata": {
        "colab": {
          "base_uri": "https://localhost:8080/"
        },
        "id": "hCc0IzRrB7Cx",
        "outputId": "78116f6e-333c-4065-fe9a-dc1b1cec6e5e"
      },
      "outputs": [
        {
          "name": "stdout",
          "output_type": "stream",
          "text": [
            "The Chi Statistical Value is 153.81657517268815\n",
            "The p value is 1.2060462307666303e-30\n",
            "Reject Null Hypothesis - there is a significant relationship between  Gender and target variable\n"
          ]
        }
      ],
      "source": [
        "# Question 2: Is there a significant relationship between Gender and the target variable? (Alternative 1- chi-square test approach )\n",
        "from scipy. stats import chi2_contingency\n",
        "\n",
        "Contingency_table = pd.crosstab(ins['Gender'], ins['target'])\n",
        "\n",
        "chi2, P , _ , _ = chi2_contingency(Contingency_table)\n",
        "print (f'The Chi Statistical Value is {chi2}')\n",
        "print(f'The p value is {P}')\n",
        "\n",
        "p_value = 0.05\n",
        "if P  < p_value:\n",
        "    print('Reject Null Hypothesis - there is a significant relationship between  Gender and target variable')\n",
        "else:\n",
        "    print('Accept Null Hypothesis - there is no significant relationship between Gender and target variable')"
      ]
    },
    {
      "cell_type": "code",
      "execution_count": null,
      "metadata": {
        "id": "l9gEce-qFdim"
      },
      "outputs": [],
      "source": [
        "# Question 2: Is there a significant relationship between Gender and the target variable? (Alternative 2-  )\n",
        "#handle missing values\n",
        "from feature_engine.imputation import CategoricalImputer\n",
        "ins['Gender'] = ins['Gender'].astype('category')\n",
        "\n",
        "ca = CategoricalImputer(variables = ['Gender'],imputation_method = 'missing')\n",
        "\n",
        "ins = ca.fit_transform(ins)\n",
        "\n",
        "\n",
        "from feature_engine.encoding import OrdinalEncoder\n",
        "\n",
        "oe = OrdinalEncoder(encoding_method='arbitrary', variables = ['Gender'])\n",
        "\n",
        "ins = oe.fit_transform(ins)"
      ]
    },
    {
      "cell_type": "code",
      "execution_count": null,
      "metadata": {
        "colab": {
          "base_uri": "https://localhost:8080/"
        },
        "id": "CoCO4RjaSuS9",
        "outputId": "f7794de1-f2f3-482c-eb90-81decda06850"
      },
      "outputs": [
        {
          "name": "stdout",
          "output_type": "stream",
          "text": [
            " The correlation between Gender and target variable is 0.007748916210633761 indicating a positve correlation\n"
          ]
        }
      ],
      "source": [
        "alt2 = ins['Gender'].corr (ins['target'])\n",
        "print (f' The correlation between Gender and target variable is {alt2} indicating a positve correlation')"
      ]
    },
    {
      "cell_type": "code",
      "execution_count": null,
      "metadata": {
        "colab": {
          "base_uri": "https://localhost:8080/"
        },
        "id": "nJkUeBEnVtKK",
        "outputId": "d3ca78db-fbf5-420a-cf1d-908f4f4a897a"
      },
      "outputs": [
        {
          "name": "stdout",
          "output_type": "stream",
          "text": [
            " -0.028936875229397547 a negative outcome-suggesting that as Age increases the possiblity of a positive outcome decreases and vice versa\n"
          ]
        }
      ],
      "source": [
        "#Question 3 : How does the Age of the customers correlate with the likelihood of positive or negative outcomes in the target variable?\n",
        "\n",
        "age_targ = ins['Age'].corr (ins['target'])\n",
        "print (f' {age_targ} a negative outcome-suggesting that as Age increases the possiblity of a positive outcome decreases and vice versa')"
      ]
    },
    {
      "cell_type": "code",
      "execution_count": null,
      "metadata": {
        "colab": {
          "base_uri": "https://localhost:8080/"
        },
        "id": "a0-hMQ1YaoTs",
        "outputId": "d094cccb-6262-45a0-9e57-fff6f7c21cff"
      },
      "outputs": [
        {
          "name": "stdout",
          "output_type": "stream",
          "text": [
            "The avergae number of policies per customer is : 1.0\n"
          ]
        }
      ],
      "source": [
        "#Question 4 : What is the average No_Pol (number of policies) per customer?\n",
        "\n",
        "avg_npol = ins['No_Pol'].mean()\n",
        "print (f'The avergae number of policies per customer is : {avg_npol.round()}')"
      ]
    },
    {
      "cell_type": "code",
      "execution_count": null,
      "metadata": {
        "colab": {
          "base_uri": "https://localhost:8080/",
          "height": 397
        },
        "id": "XBlTGAeKdgOh",
        "outputId": "51b5a30c-5353-421a-87fa-fc3672fa9dd7"
      },
      "outputs": [
        {
          "output_type": "execute_result",
          "data": {
            "text/plain": [
              "ProductName\n",
              "CVTP                 469\n",
              "Car Classic         6485\n",
              "Car Plus             486\n",
              "Car Vintage            5\n",
              "CarFlex              176\n",
              "CarSafe             3774\n",
              "Customized Motor     545\n",
              "Motor Cycle           46\n",
              "Muuve                 93\n",
              "Name: target, dtype: int64"
            ],
            "text/html": [
              "<div>\n",
              "<style scoped>\n",
              "    .dataframe tbody tr th:only-of-type {\n",
              "        vertical-align: middle;\n",
              "    }\n",
              "\n",
              "    .dataframe tbody tr th {\n",
              "        vertical-align: top;\n",
              "    }\n",
              "\n",
              "    .dataframe thead th {\n",
              "        text-align: right;\n",
              "    }\n",
              "</style>\n",
              "<table border=\"1\" class=\"dataframe\">\n",
              "  <thead>\n",
              "    <tr style=\"text-align: right;\">\n",
              "      <th></th>\n",
              "      <th>target</th>\n",
              "    </tr>\n",
              "    <tr>\n",
              "      <th>ProductName</th>\n",
              "      <th></th>\n",
              "    </tr>\n",
              "  </thead>\n",
              "  <tbody>\n",
              "    <tr>\n",
              "      <th>CVTP</th>\n",
              "      <td>469</td>\n",
              "    </tr>\n",
              "    <tr>\n",
              "      <th>Car Classic</th>\n",
              "      <td>6485</td>\n",
              "    </tr>\n",
              "    <tr>\n",
              "      <th>Car Plus</th>\n",
              "      <td>486</td>\n",
              "    </tr>\n",
              "    <tr>\n",
              "      <th>Car Vintage</th>\n",
              "      <td>5</td>\n",
              "    </tr>\n",
              "    <tr>\n",
              "      <th>CarFlex</th>\n",
              "      <td>176</td>\n",
              "    </tr>\n",
              "    <tr>\n",
              "      <th>CarSafe</th>\n",
              "      <td>3774</td>\n",
              "    </tr>\n",
              "    <tr>\n",
              "      <th>Customized Motor</th>\n",
              "      <td>545</td>\n",
              "    </tr>\n",
              "    <tr>\n",
              "      <th>Motor Cycle</th>\n",
              "      <td>46</td>\n",
              "    </tr>\n",
              "    <tr>\n",
              "      <th>Muuve</th>\n",
              "      <td>93</td>\n",
              "    </tr>\n",
              "  </tbody>\n",
              "</table>\n",
              "</div><br><label><b>dtype:</b> int64</label>"
            ]
          },
          "metadata": {},
          "execution_count": 9
        }
      ],
      "source": [
        "#Question 5 .\tAre there differences in policy outcomes (target) across different ProductName categories?\n",
        "\n",
        "diff_pol = ins.groupby('ProductName')['target'].count()\n",
        "diff_pol"
      ]
    },
    {
      "cell_type": "code",
      "execution_count": null,
      "metadata": {
        "colab": {
          "base_uri": "https://localhost:8080/"
        },
        "id": "U0ED5uCOfk3J",
        "outputId": "fedc8167-fb21-4998-941f-10b5e93b8c81"
      },
      "outputs": [
        {
          "name": "stdout",
          "output_type": "stream",
          "text": [
            "Duration between date in days: 364 days\n"
          ]
        }
      ],
      "source": [
        "# Question 6. What is the average duration between Policy Start Date and Policy End Date(Alternative 1)\n",
        "\n",
        "policy_date_1 = np.datetime64('2010-05-14')\n",
        "policy_date_2 = np.datetime64('2011-05-13')\n",
        "\n",
        "difference = policy_date_2 - policy_date_1\n",
        "\n",
        "print(f'Duration between date in days:',difference)"
      ]
    },
    {
      "cell_type": "code",
      "execution_count": null,
      "metadata": {
        "colab": {
          "base_uri": "https://localhost:8080/"
        },
        "id": "Tt1j8ZFXnxhm",
        "outputId": "52c15d82-652c-4a82-c057-3e99a3b85ab7"
      },
      "outputs": [
        {
          "name": "stdout",
          "output_type": "stream",
          "text": [
            "Duration between date in days: 364\n"
          ]
        }
      ],
      "source": [
        "# Question 6. What is the average duration between Policy Start Date and Policy End Date(Alternative 2)\n",
        "from datetime import datetime\n",
        "\n",
        "date1 = datetime(2010, 5, 14)\n",
        "date2 = datetime(2011, 5, 13)\n",
        "\n",
        "duration = date2 - date1\n",
        "days_between = duration.days\n",
        "print(f'Duration between date in days:', days_between)"
      ]
    },
    {
      "cell_type": "code",
      "execution_count": null,
      "metadata": {
        "colab": {
          "base_uri": "https://localhost:8080/"
        },
        "id": "hvFzewWdiSm8",
        "outputId": "13013fa1-a9c4-4b01-85cc-d0e5ea764370"
      },
      "outputs": [
        {
          "output_type": "stream",
          "name": "stdout",
          "text": [
            "Year\n",
            "2001        1\n",
            "2002        1\n",
            "2003        2\n",
            "2005        1\n",
            "2006        2\n",
            "2007        1\n",
            "2009        6\n",
            "2010    12065\n",
            "Name: No_Pol, dtype: int64\n",
            "Month_Name\n",
            "April        1108\n",
            "August        967\n",
            "December      971\n",
            "February      996\n",
            "January      1168\n",
            "July         1130\n",
            "June          785\n",
            "March        1080\n",
            "May           918\n",
            "November     1001\n",
            "October      1016\n",
            "September     939\n",
            "Name: No_Pol, dtype: int64\n"
          ]
        }
      ],
      "source": [
        " #Question 7.Is there any seasonal trend in Policy Start Date (e.g., more policies starting during certain months)?\n",
        "ins['Policy Start Date'] = pd.to_datetime(ins['Policy Start Date'])\n",
        "\n",
        "ins['Year'] = ins['Policy Start Date'].dt.year\n",
        "ins['Month'] = ins['Policy Start Date'].dt.month\n",
        "ins['Month_Name'] = ins['Policy Start Date'].dt.month_name()\n",
        "\n",
        "yearly_trend = ins.groupby('Year')['No_Pol'].count()\n",
        "print(yearly_trend)\n",
        "\n",
        "ins['Policy Start Date'] = pd.to_datetime(ins['Policy Start Date'])\n",
        "\n",
        "ins['Year'] = ins['Policy Start Date'].dt.year\n",
        "ins['Month'] = ins['Policy Start Date'].dt.month\n",
        "ins['Month_Name'] = ins['Policy Start Date'].dt.month_name()\n",
        "\n",
        "Monthly_trend = ins.groupby('Month_Name')['No_Pol'].count()\n",
        "print(Monthly_trend)"
      ]
    },
    {
      "cell_type": "code",
      "execution_count": null,
      "metadata": {
        "id": "wPI8pht8lmzE"
      },
      "outputs": [],
      "source": [
        "#Question 8 : Does the Car_Category affect the outcome of the target variable? (Alternative 1 - Encoding / Coorelation)\n",
        "from feature_engine.imputation import CategoricalImputer\n",
        "\n",
        "ins['Car_Category'] = ins['Car_Category'].astype('category')\n",
        "\n",
        "ca = CategoricalImputer(variables = ['Car_Category'],imputation_method = 'missing')\n",
        "\n",
        "ins = ca.fit_transform(ins)\n",
        "\n",
        "\n",
        "from feature_engine.encoding import OrdinalEncoder\n",
        "\n",
        "oe = OrdinalEncoder(encoding_method= 'arbitrary', variables = ['Car_Category'])\n",
        "\n",
        "ins = oe.fit_transform(ins)\n"
      ]
    },
    {
      "cell_type": "code",
      "execution_count": null,
      "metadata": {
        "colab": {
          "base_uri": "https://localhost:8080/"
        },
        "id": "Sv8QRctxsg4J",
        "outputId": "749ec18d-5745-4023-f139-b78d30cd97b7"
      },
      "outputs": [
        {
          "name": "stdout",
          "output_type": "stream",
          "text": [
            "-0.010734596995091331\n",
            "0.23812255845599287\n"
          ]
        }
      ],
      "source": [
        "from scipy.stats import pearsonr\n",
        "\n",
        "coorelation, p_value = pearsonr(ins['Car_Category'], ins['target'])\n",
        "print(coorelation)\n",
        "print(p_value)"
      ]
    },
    {
      "cell_type": "code",
      "execution_count": null,
      "metadata": {
        "colab": {
          "base_uri": "https://localhost:8080/"
        },
        "id": "dRSqoTZ6vYRi",
        "outputId": "2aeb38ed-3b1f-4f2d-8c9c-52e3fc400e76"
      },
      "outputs": [
        {
          "data": {
            "text/plain": [
              "-0.010734596995091385"
            ]
          },
          "execution_count": 47,
          "metadata": {},
          "output_type": "execute_result"
        }
      ],
      "source": [
        "#Question 9.\tHow does Car_Make (e.g., TOYOTA, etc.) impact policy outcomes?\n",
        "q9 = ins['Car_Category'].corr(ins['target'])\n",
        "q9"
      ]
    },
    {
      "cell_type": "code",
      "execution_count": null,
      "metadata": {
        "colab": {
          "base_uri": "https://localhost:8080/"
        },
        "id": "1-1j29C3z8Oc",
        "outputId": "1b335a6d-7ccc-4d9a-8001-67ceff9162ac"
      },
      "outputs": [
        {
          "name": "stdout",
          "output_type": "stream",
          "text": [
            "Chi-Square Test p-value: 2.530911423289555e-13\n",
            "Reject Null Hypothesis - This suggests that Car_Category has a significant effect on the target variable.\n",
            " Certain car categories are likely associated with different outcomes in the target variable.\n"
          ]
        }
      ],
      "source": [
        "from scipy.stats import chi2_contingency #This approach provide a meaningful result that insight can be drawn from (Alternative 2)\n",
        "\n",
        "contingency_table = pd.crosstab(ins['Car_Category'], ins['target'])\n",
        "\n",
        "chi2, p_value, _, _ = chi2_contingency(contingency_table)\n",
        "print(\"Chi-Square Test p-value:\", p_value)\n",
        "\n",
        "p = 0.05\n",
        "if p_value  < p:\n",
        "    print('Reject Null Hypothesis - This suggests that Car_Category has a significant effect on the target variable.\\n Certain car categories are likely associated with different outcomes in the target variable.')\n",
        "else:\n",
        "    print('Accept Null Hypothesis - there is no significant relationship between Gender and target variable')"
      ]
    },
    {
      "cell_type": "code",
      "execution_count": null,
      "metadata": {
        "colab": {
          "base_uri": "https://localhost:8080/"
        },
        "id": "SeAtDpoTy9bJ",
        "outputId": "f9079da9-f488-42ee-a046-dd59945705d0"
      },
      "outputs": [
        {
          "name": "stdout",
          "output_type": "stream",
          "text": [
            "Chi-Square Test p-value: 2.216526940508275e-194\n",
            "Reject Null Hypothesis - This suggests that theres a significant relationship between Car Make and Policy Outcome - \n",
            " meaning the make of the cars effect the  outcome of policy.\n"
          ]
        }
      ],
      "source": [
        "#Question 9.\tHow does Car_Make (e.g., TOYOTA, etc.) impact policy outcomes?\n",
        "\n",
        "from scipy.stats import chi2_contingency\n",
        "\n",
        "Contingency_Table = pd.crosstab(ins['Subject_Car_Make'], ins['No_Pol'])\n",
        "\n",
        "chi2, p, _, _ = chi2_contingency(Contingency_Table)\n",
        "print(\"Chi-Square Test p-value:\", p)\n",
        "\n",
        "alpha = 0.05\n",
        "if p  < alpha:\n",
        "    print('Reject Null Hypothesis - This suggests that theres a significant relationship between Car Make and Policy Outcome - \\n meaning the make of the cars effect the  outcome of policy.')\n",
        "else:\n",
        "    print('Accept Null Hypothesis - there is no significant relationship between Car Make and Policy Outcome')"
      ]
    },
    {
      "cell_type": "code",
      "execution_count": null,
      "metadata": {
        "colab": {
          "base_uri": "https://localhost:8080/"
        },
        "id": "t6uP0dtK3ZCY",
        "outputId": "b7a448a2-c81e-48fc-b1da-8c42336f7dad"
      },
      "outputs": [
        {
          "output_type": "stream",
          "name": "stdout",
          "text": [
            "Chi-Square Test p-value: 9.503759734456935e-07\n",
            "Reject Null Hypothesis meaning there are evidences that Certain Car Colours are prone to  negative outcome\n"
          ]
        }
      ],
      "source": [
        "#Question 10. Are certain car colors (Subject_Car_Colour) more prone to negative outcomes (i.e., target = 1)?\n",
        "from scipy.stats import chi2_contingency\n",
        "\n",
        "Contingency_Table = pd.crosstab(ins['Subject_Car_Colour'], ins['target']== 1)\n",
        "\n",
        "chi2, p, _, _ = chi2_contingency(Contingency_Table)\n",
        "print(\"Chi-Square Test p-value:\", p)\n",
        "\n",
        "alpha = 0.05\n",
        "if p  < alpha:\n",
        "    print('Reject Null Hypothesis meaning there are evidences that Certain Car Colours are prone to  negative outcome')\n",
        "else:\n",
        "    print('Accept Null Hypothesis meaning there is no evidence if Car Colour are prone to  negative outcome')"
      ]
    },
    {
      "cell_type": "code",
      "execution_count": null,
      "metadata": {
        "colab": {
          "base_uri": "https://localhost:8080/"
        },
        "id": "UMk3BTiKaEmc",
        "outputId": "89167795-cae8-4654-d096-2f84739cd5b2"
      },
      "outputs": [
        {
          "name": "stdout",
          "output_type": "stream",
          "text": [
            "The correlation between No_Pol and Age is 0.0162\n",
            "This indicate that the number of policies increase or decreases with Customer's Age\n"
          ]
        }
      ],
      "source": [
        "#Question 11:\tHow does the No_Pol (number of policies) correlate with the customer’s age?\n",
        "pol_age_corr = ins['No_Pol'].corr(ins['Age'])\n",
        "print(f'The correlation between No_Pol and Age is {pol_age_corr:.4f}')\n",
        "print(\"This indicate that the number of policies increase or decreases with Customer's Age\")"
      ]
    },
    {
      "cell_type": "code",
      "execution_count": null,
      "metadata": {
        "id": "NGkT4n4xcYUR"
      },
      "outputs": [],
      "source": [
        "#Question 12: Does LGA_Name (location) or State influence the target variable?\n",
        "\n",
        "from feature_engine.imputation import CategoricalImputer\n",
        "\n",
        "ins['State'] = ins['State'].astype('category')\n",
        "\n",
        "ca = CategoricalImputer(variables= ['State'], imputation_method='missing')\n",
        "ins = ca.fit_transform(ins)\n",
        "\n",
        "from feature_engine.encoding import  OrdinalEncoder\n",
        "oe = OrdinalEncoder(encoding_method= 'arbitrary', variables= ['State'])\n",
        "ins = oe.fit_transform(ins)"
      ]
    },
    {
      "cell_type": "code",
      "execution_count": null,
      "metadata": {
        "colab": {
          "base_uri": "https://localhost:8080/"
        },
        "id": "V7TnYrphfzj2",
        "outputId": "74525f53-ca50-4ab0-ca47-7568c9572ddc"
      },
      "outputs": [
        {
          "name": "stdout",
          "output_type": "stream",
          "text": [
            "0.0042 indicate that State influences target variable\n"
          ]
        }
      ],
      "source": [
        "inf_sta_targ = ins['State']. corr (ins['target'])\n",
        "print(f'{inf_sta_targ:.4f} indicate that State influences target variable')"
      ]
    },
    {
      "cell_type": "code",
      "execution_count": null,
      "metadata": {
        "colab": {
          "base_uri": "https://localhost:8080/"
        },
        "id": "uImLVSe3ktQ1",
        "outputId": "15c2a865-66ae-49d6-d8e3-2c0e8b48b789"
      },
      "outputs": [
        {
          "name": "stdout",
          "output_type": "stream",
          "text": [
            "Gender\n",
            "Male            7617\n",
            "Female          3327\n",
            "Entity           277\n",
            "Joint Gender     223\n",
            "NOT STATED       175\n",
            "NO GENDER         66\n",
            "SEX               35\n",
            "Name: count, dtype: int64\n",
            "Gender\n",
            "Male            65.0\n",
            "Female          28.0\n",
            "Entity           2.0\n",
            "Joint Gender     2.0\n",
            "NOT STATED       1.0\n",
            "NO GENDER        1.0\n",
            "SEX              0.0\n",
            "Name: proportion, dtype: float64\n"
          ]
        }
      ],
      "source": [
        "#Question 13.\tWhat is the gender distribution in the dataset, and how does it relate to policy outcomes?\n",
        "gen_dis = ins['Gender'].value_counts()\n",
        "print(gen_dis)\n",
        "gen_per = ins['Gender'].value_counts(normalize = True)*100\n",
        "print(f'{gen_per.round()}')"
      ]
    },
    {
      "cell_type": "code",
      "execution_count": null,
      "metadata": {
        "id": "vjCVYTQqpFv0"
      },
      "outputs": [],
      "source": [
        "#14. How many unique car categories are present in the dataset, and what is their distribution?"
      ]
    },
    {
      "cell_type": "code",
      "execution_count": null,
      "metadata": {
        "colab": {
          "base_uri": "https://localhost:8080/",
          "height": 617
        },
        "id": "putmRCzyppGS",
        "outputId": "f1513e49-dee2-4a0c-c357-175f1a6990c5"
      },
      "outputs": [
        {
          "output_type": "execute_result",
          "data": {
            "text/plain": [
              "Car_Category\n",
              "Saloon                     6034\n",
              "JEEP                       2021\n",
              "Truck                        97\n",
              "Bus                          54\n",
              "Mini Bus                     36\n",
              "Pick Up                      30\n",
              "Motorcycle                   17\n",
              "Mini Van                     13\n",
              "Sedan                        12\n",
              "Wagon                        10\n",
              "Shape Of Vehicle Chasis       6\n",
              "Station 4 Wheel               5\n",
              "Van                           3\n",
              "Pick Up > 3 Tons              1\n",
              "CAMRY CAR HIRE                1\n",
              "Tipper Truck                  1\n",
              "Name: count, dtype: int64"
            ],
            "text/html": [
              "<div>\n",
              "<style scoped>\n",
              "    .dataframe tbody tr th:only-of-type {\n",
              "        vertical-align: middle;\n",
              "    }\n",
              "\n",
              "    .dataframe tbody tr th {\n",
              "        vertical-align: top;\n",
              "    }\n",
              "\n",
              "    .dataframe thead th {\n",
              "        text-align: right;\n",
              "    }\n",
              "</style>\n",
              "<table border=\"1\" class=\"dataframe\">\n",
              "  <thead>\n",
              "    <tr style=\"text-align: right;\">\n",
              "      <th></th>\n",
              "      <th>count</th>\n",
              "    </tr>\n",
              "    <tr>\n",
              "      <th>Car_Category</th>\n",
              "      <th></th>\n",
              "    </tr>\n",
              "  </thead>\n",
              "  <tbody>\n",
              "    <tr>\n",
              "      <th>Saloon</th>\n",
              "      <td>6034</td>\n",
              "    </tr>\n",
              "    <tr>\n",
              "      <th>JEEP</th>\n",
              "      <td>2021</td>\n",
              "    </tr>\n",
              "    <tr>\n",
              "      <th>Truck</th>\n",
              "      <td>97</td>\n",
              "    </tr>\n",
              "    <tr>\n",
              "      <th>Bus</th>\n",
              "      <td>54</td>\n",
              "    </tr>\n",
              "    <tr>\n",
              "      <th>Mini Bus</th>\n",
              "      <td>36</td>\n",
              "    </tr>\n",
              "    <tr>\n",
              "      <th>Pick Up</th>\n",
              "      <td>30</td>\n",
              "    </tr>\n",
              "    <tr>\n",
              "      <th>Motorcycle</th>\n",
              "      <td>17</td>\n",
              "    </tr>\n",
              "    <tr>\n",
              "      <th>Mini Van</th>\n",
              "      <td>13</td>\n",
              "    </tr>\n",
              "    <tr>\n",
              "      <th>Sedan</th>\n",
              "      <td>12</td>\n",
              "    </tr>\n",
              "    <tr>\n",
              "      <th>Wagon</th>\n",
              "      <td>10</td>\n",
              "    </tr>\n",
              "    <tr>\n",
              "      <th>Shape Of Vehicle Chasis</th>\n",
              "      <td>6</td>\n",
              "    </tr>\n",
              "    <tr>\n",
              "      <th>Station 4 Wheel</th>\n",
              "      <td>5</td>\n",
              "    </tr>\n",
              "    <tr>\n",
              "      <th>Van</th>\n",
              "      <td>3</td>\n",
              "    </tr>\n",
              "    <tr>\n",
              "      <th>Pick Up &gt; 3 Tons</th>\n",
              "      <td>1</td>\n",
              "    </tr>\n",
              "    <tr>\n",
              "      <th>CAMRY CAR HIRE</th>\n",
              "      <td>1</td>\n",
              "    </tr>\n",
              "    <tr>\n",
              "      <th>Tipper Truck</th>\n",
              "      <td>1</td>\n",
              "    </tr>\n",
              "  </tbody>\n",
              "</table>\n",
              "</div><br><label><b>dtype:</b> int64</label>"
            ]
          },
          "metadata": {},
          "execution_count": 7
        }
      ],
      "source": [
        "\n",
        "ins['Car_Category'].value_counts()"
      ]
    },
    {
      "cell_type": "code",
      "execution_count": null,
      "metadata": {
        "id": "jqT5kAix731H",
        "colab": {
          "base_uri": "https://localhost:8080/"
        },
        "outputId": "cd7ff41e-2671-4165-8630-800a633a679b"
      },
      "outputs": [
        {
          "output_type": "stream",
          "name": "stdout",
          "text": [
            "car classic policy counts\n",
            "No_Pol\n",
            "1    5007\n",
            "2    1084\n",
            "3     302\n",
            "4      67\n",
            "5      18\n",
            "6       7\n",
            "Name: count, dtype: int64\n",
            "car Safe policy counts\n",
            "No_Pol\n",
            "1     3533\n",
            "2      192\n",
            "3       26\n",
            "7       11\n",
            "4       10\n",
            "10       2\n",
            "Name: count, dtype: int64\n",
            "muuve policy counts\n",
            "No_Pol\n",
            "4     53\n",
            "3     33\n",
            "2      3\n",
            "1      3\n",
            "10     1\n",
            "Name: count, dtype: int64\n"
          ]
        }
      ],
      "source": [
        "#16.Are there any notable differences in policy outcomes between Car Classic, CarSafe, and Muuve?\n",
        "car_classic_data = ins[ins['ProductName'] == 'Car Classic']\n",
        "car_classic_policy_counts = car_classic_data['No_Pol'].value_counts()\n",
        "print('car classic policy counts')\n",
        "print(car_classic_policy_counts)\n",
        "\n",
        "car_Safe_data = ins[ins['ProductName'] == 'CarSafe']\n",
        "car_Safe_policy_counts = car_Safe_data['No_Pol'].value_counts()\n",
        "print('car Safe policy counts')\n",
        "print(car_Safe_policy_counts)\n",
        "\n",
        "muuve_data = ins[ins['ProductName'] == 'Muuve']\n",
        "muuve_policy_counts = muuve_data['No_Pol'].value_counts()\n",
        "print('muuve policy counts')\n",
        "print(muuve_policy_counts)\n"
      ]
    },
    {
      "cell_type": "code",
      "source": [
        "#17.\tWhat percentage of the policies were for Saloon cars compared to other categories?\n",
        "\n",
        "Saloon_cars = ins[ins['Car_Category']== 'Saloon']\n",
        "per_pol_salon = len(Saloon_cars) / len(ins) * 100\n",
        "\n",
        "\n",
        "print(per_pol_salon)"
      ],
      "metadata": {
        "id": "2ycbgT9k6Yfm",
        "colab": {
          "base_uri": "https://localhost:8080/"
        },
        "outputId": "7998c27e-9504-4c38-ca92-86b741d772a9"
      },
      "execution_count": null,
      "outputs": [
        {
          "output_type": "stream",
          "name": "stdout",
          "text": [
            "49.95446642934018\n"
          ]
        }
      ]
    },
    {
      "cell_type": "code",
      "source": [
        "ins['No_Pol'].unique()"
      ],
      "metadata": {
        "colab": {
          "base_uri": "https://localhost:8080/"
        },
        "id": "mPIzrie4UUrb",
        "outputId": "abdd26af-5ee2-4fb0-89d1-75d181f66360"
      },
      "execution_count": null,
      "outputs": [
        {
          "output_type": "execute_result",
          "data": {
            "text/plain": [
              "array([ 1,  3,  2,  4,  5,  7, 10,  6])"
            ]
          },
          "metadata": {},
          "execution_count": 10
        }
      ]
    },
    {
      "cell_type": "code",
      "source": [
        "len(Saloon_cars)"
      ],
      "metadata": {
        "colab": {
          "base_uri": "https://localhost:8080/"
        },
        "id": "ztrsHH8a9rWW",
        "outputId": "f335dc2f-65fd-447c-c798-e0b7d496feba"
      },
      "execution_count": null,
      "outputs": [
        {
          "output_type": "execute_result",
          "data": {
            "text/plain": [
              "6034"
            ]
          },
          "metadata": {},
          "execution_count": 25
        }
      ]
    },
    {
      "cell_type": "code",
      "source": [
        "#19\tAre customers with multiple policies (No_Pol > 1) more likely to have certain outcomes?\n",
        "filtered_pol = ins[ins['No_Pol']> 1]\n",
        "q19 = filtered_pol['No_Pol'].corr(ins['target'])\n",
        "q19\n",
        "\n"
      ],
      "metadata": {
        "id": "JOAy6W6BAP39",
        "colab": {
          "base_uri": "https://localhost:8080/"
        },
        "outputId": "9c89afc5-6c03-443a-e630-9cca2384df39"
      },
      "execution_count": null,
      "outputs": [
        {
          "output_type": "execute_result",
          "data": {
            "text/plain": [
              "0.059379843870406526"
            ]
          },
          "metadata": {},
          "execution_count": 20
        }
      ]
    },
    {
      "cell_type": "code",
      "source": [
        "#20.\tAre there any missing values in the dataset, and if so, how are they distributed across columns?\n",
        "ins.isnull().sum()"
      ],
      "metadata": {
        "colab": {
          "base_uri": "https://localhost:8080/",
          "height": 617
        },
        "id": "FartFFAts9vF",
        "outputId": "37cadc66-7a0d-4cd4-8da2-00fbd57ce09a"
      },
      "execution_count": null,
      "outputs": [
        {
          "output_type": "execute_result",
          "data": {
            "text/plain": [
              "ID                           0\n",
              "Policy Start Date            0\n",
              "Policy End Date              0\n",
              "Gender                     359\n",
              "Age                          0\n",
              "First Transaction Date       0\n",
              "No_Pol                       0\n",
              "Car_Category              3738\n",
              "Subject_Car_Colour        6962\n",
              "Subject_Car_Make          2476\n",
              "LGA_Name                  6476\n",
              "State                     6488\n",
              "ProductName                  0\n",
              "target                       0\n",
              "Year                         0\n",
              "Month                        0\n",
              "Month_Name                   0\n",
              "dtype: int64"
            ],
            "text/html": [
              "<div>\n",
              "<style scoped>\n",
              "    .dataframe tbody tr th:only-of-type {\n",
              "        vertical-align: middle;\n",
              "    }\n",
              "\n",
              "    .dataframe tbody tr th {\n",
              "        vertical-align: top;\n",
              "    }\n",
              "\n",
              "    .dataframe thead th {\n",
              "        text-align: right;\n",
              "    }\n",
              "</style>\n",
              "<table border=\"1\" class=\"dataframe\">\n",
              "  <thead>\n",
              "    <tr style=\"text-align: right;\">\n",
              "      <th></th>\n",
              "      <th>0</th>\n",
              "    </tr>\n",
              "  </thead>\n",
              "  <tbody>\n",
              "    <tr>\n",
              "      <th>ID</th>\n",
              "      <td>0</td>\n",
              "    </tr>\n",
              "    <tr>\n",
              "      <th>Policy Start Date</th>\n",
              "      <td>0</td>\n",
              "    </tr>\n",
              "    <tr>\n",
              "      <th>Policy End Date</th>\n",
              "      <td>0</td>\n",
              "    </tr>\n",
              "    <tr>\n",
              "      <th>Gender</th>\n",
              "      <td>359</td>\n",
              "    </tr>\n",
              "    <tr>\n",
              "      <th>Age</th>\n",
              "      <td>0</td>\n",
              "    </tr>\n",
              "    <tr>\n",
              "      <th>First Transaction Date</th>\n",
              "      <td>0</td>\n",
              "    </tr>\n",
              "    <tr>\n",
              "      <th>No_Pol</th>\n",
              "      <td>0</td>\n",
              "    </tr>\n",
              "    <tr>\n",
              "      <th>Car_Category</th>\n",
              "      <td>3738</td>\n",
              "    </tr>\n",
              "    <tr>\n",
              "      <th>Subject_Car_Colour</th>\n",
              "      <td>6962</td>\n",
              "    </tr>\n",
              "    <tr>\n",
              "      <th>Subject_Car_Make</th>\n",
              "      <td>2476</td>\n",
              "    </tr>\n",
              "    <tr>\n",
              "      <th>LGA_Name</th>\n",
              "      <td>6476</td>\n",
              "    </tr>\n",
              "    <tr>\n",
              "      <th>State</th>\n",
              "      <td>6488</td>\n",
              "    </tr>\n",
              "    <tr>\n",
              "      <th>ProductName</th>\n",
              "      <td>0</td>\n",
              "    </tr>\n",
              "    <tr>\n",
              "      <th>target</th>\n",
              "      <td>0</td>\n",
              "    </tr>\n",
              "    <tr>\n",
              "      <th>Year</th>\n",
              "      <td>0</td>\n",
              "    </tr>\n",
              "    <tr>\n",
              "      <th>Month</th>\n",
              "      <td>0</td>\n",
              "    </tr>\n",
              "    <tr>\n",
              "      <th>Month_Name</th>\n",
              "      <td>0</td>\n",
              "    </tr>\n",
              "  </tbody>\n",
              "</table>\n",
              "</div><br><label><b>dtype:</b> int64</label>"
            ]
          },
          "metadata": {},
          "execution_count": 21
        }
      ]
    },
    {
      "cell_type": "code",
      "source": [
        "#DATA VISUALIZATION 1.\tCan we visualize the distribution of Age across different policy outcomes?\n",
        "Age_targ = ins.groupby('age_group')['target'].value_counts().unstack()\n",
        "Age_targ.plot(kind='bar', colormap=\"viridis\")\n",
        "plt.title('Distribution of Age across different policy outcomes')\n",
        "plt.xlabel('Age')\n",
        "plt.ylabel('Policy Outcome')\n",
        "plt.show()"
      ],
      "metadata": {
        "colab": {
          "base_uri": "https://localhost:8080/",
          "height": 522
        },
        "id": "cPcmysKRCCxQ",
        "outputId": "15eb9219-a1a2-453c-9e3b-36cdff282d2a"
      },
      "execution_count": null,
      "outputs": [
        {
          "output_type": "display_data",
          "data": {
            "text/plain": [
              "<Figure size 640x480 with 1 Axes>"
            ],
            "image/png": "[encoded data removed]"
          },
          "metadata": {}
        }
      ]
    },
    {
      "cell_type": "code",
      "source": [
        "Age_targ = ins.groupby('age_group')['target'].value_counts().unstack()\n",
        "Age_targ"
      ],
      "metadata": {
        "colab": {
          "base_uri": "https://localhost:8080/",
          "height": 300
        },
        "id": "KGqx6MO8YfbL",
        "outputId": "1ad134fc-5925-4fcf-b8c7-ce92e1893f63"
      },
      "execution_count": null,
      "outputs": [
        {
          "output_type": "execute_result",
          "data": {
            "text/plain": [
              "target        0    1\n",
              "age_group           \n",
              "             12    3\n",
              "100+        298   77\n",
              "19-30       933  188\n",
              "31-40      3724  619\n",
              "41-60      4245  449\n",
              "51-60       922   60\n",
              "Under 18    490   59"
            ],
            "text/html": [
              "\n",
              "  <div id=\"df-394d321b-9daf-407b-b80e-93afca7d5192\" class=\"colab-df-container\">\n",
              "    <div>\n",
              "<style scoped>\n",
              "    .dataframe tbody tr th:only-of-type {\n",
              "        vertical-align: middle;\n",
              "    }\n",
              "\n",
              "    .dataframe tbody tr th {\n",
              "        vertical-align: top;\n",
              "    }\n",
              "\n",
              "    .dataframe thead th {\n",
              "        text-align: right;\n",
              "    }\n",
              "</style>\n",
              "<table border=\"1\" class=\"dataframe\">\n",
              "  <thead>\n",
              "    <tr style=\"text-align: right;\">\n",
              "      <th>target</th>\n",
              "      <th>0</th>\n",
              "      <th>1</th>\n",
              "    </tr>\n",
              "    <tr>\n",
              "      <th>age_group</th>\n",
              "      <th></th>\n",
              "      <th></th>\n",
              "    </tr>\n",
              "  </thead>\n",
              "  <tbody>\n",
              "    <tr>\n",
              "      <th></th>\n",
              "      <td>12</td>\n",
              "      <td>3</td>\n",
              "    </tr>\n",
              "    <tr>\n",
              "      <th>100+</th>\n",
              "      <td>298</td>\n",
              "      <td>77</td>\n",
              "    </tr>\n",
              "    <tr>\n",
              "      <th>19-30</th>\n",
              "      <td>933</td>\n",
              "      <td>188</td>\n",
              "    </tr>\n",
              "    <tr>\n",
              "      <th>31-40</th>\n",
              "      <td>3724</td>\n",
              "      <td>619</td>\n",
              "    </tr>\n",
              "    <tr>\n",
              "      <th>41-60</th>\n",
              "      <td>4245</td>\n",
              "      <td>449</td>\n",
              "    </tr>\n",
              "    <tr>\n",
              "      <th>51-60</th>\n",
              "      <td>922</td>\n",
              "      <td>60</td>\n",
              "    </tr>\n",
              "    <tr>\n",
              "      <th>Under 18</th>\n",
              "      <td>490</td>\n",
              "      <td>59</td>\n",
              "    </tr>\n",
              "  </tbody>\n",
              "</table>\n",
              "</div>\n",
              "    <div class=\"colab-df-buttons\">\n",
              "\n",
              "  <div class=\"colab-df-container\">\n",
              "    <button class=\"colab-df-convert\" onclick=\"convertToInteractive('df-394d321b-9daf-407b-b80e-93afca7d5192')\"\n",
              "            title=\"Convert this dataframe to an interactive table.\"\n",
              "            style=\"display:none;\">\n",
              "\n",
              "  <svg xmlns=\"http://www.w3.org/2000/svg\" height=\"24px\" viewBox=\"0 -960 960 960\">\n",
              "    <path d=\"M120-120v-720h720v720H120Zm60-500h600v-160H180v160Zm220 220h160v-160H400v160Zm0 220h160v-160H400v160ZM180-400h160v-160H180v160Zm440 0h160v-160H620v160ZM180-180h160v-160H180v160Zm440 0h160v-160H620v160Z\"/>\n",
              "  </svg>\n",
              "    </button>\n",
              "\n",
              "  <style>\n",
              "    .colab-df-container {\n",
              "      display:flex;\n",
              "      gap: 12px;\n",
              "    }\n",
              "\n",
              "    .colab-df-convert {\n",
              "      background-color: #E8F0FE;\n",
              "      border: none;\n",
              "      border-radius: 50%;\n",
              "      cursor: pointer;\n",
              "      display: none;\n",
              "      fill: #1967D2;\n",
              "      height: 32px;\n",
              "      padding: 0 0 0 0;\n",
              "      width: 32px;\n",
              "    }\n",
              "\n",
              "    .colab-df-convert:hover {\n",
              "      background-color: #E2EBFA;\n",
              "      box-shadow: 0px 1px 2px rgba(60, 64, 67, 0.3), 0px 1px 3px 1px rgba(60, 64, 67, 0.15);\n",
              "      fill: #174EA6;\n",
              "    }\n",
              "\n",
              "    .colab-df-buttons div {\n",
              "      margin-bottom: 4px;\n",
              "    }\n",
              "\n",
              "    [theme=dark] .colab-df-convert {\n",
              "      background-color: #3B4455;\n",
              "      fill: #D2E3FC;\n",
              "    }\n",
              "\n",
              "    [theme=dark] .colab-df-convert:hover {\n",
              "      background-color: #434B5C;\n",
              "      box-shadow: 0px 1px 3px 1px rgba(0, 0, 0, 0.15);\n",
              "      filter: drop-shadow(0px 1px 2px rgba(0, 0, 0, 0.3));\n",
              "      fill: #FFFFFF;\n",
              "    }\n",
              "  </style>\n",
              "\n",
              "    <script>\n",
              "      const buttonEl =\n",
              "        document.querySelector('#df-394d321b-9daf-407b-b80e-93afca7d5192 button.colab-df-convert');\n",
              "      buttonEl.style.display =\n",
              "        google.colab.kernel.accessAllowed ? 'block' : 'none';\n",
              "\n",
              "      async function convertToInteractive(key) {\n",
              "        const element = document.querySelector('#df-394d321b-9daf-407b-b80e-93afca7d5192');\n",
              "        const dataTable =\n",
              "          await google.colab.kernel.invokeFunction('convertToInteractive',\n",
              "                                                    [key], {});\n",
              "        if (!dataTable) return;\n",
              "\n",
              "        const docLinkHtml = 'Like what you see? Visit the ' +\n",
              "          '<a target=\"_blank\" href=https://colab.research.google.com/notebooks/data_table.ipynb>data table notebook</a>'\n",
              "          + ' to learn more about interactive tables.';\n",
              "        element.innerHTML = '';\n",
              "        dataTable['output_type'] = 'display_data';\n",
              "        await google.colab.output.renderOutput(dataTable, element);\n",
              "        const docLink = document.createElement('div');\n",
              "        docLink.innerHTML = docLinkHtml;\n",
              "        element.appendChild(docLink);\n",
              "      }\n",
              "    </script>\n",
              "  </div>\n",
              "\n",
              "\n",
              "<div id=\"df-8bed77f8-9296-4a3f-a477-18627ef7dc04\">\n",
              "  <button class=\"colab-df-quickchart\" onclick=\"quickchart('df-8bed77f8-9296-4a3f-a477-18627ef7dc04')\"\n",
              "            title=\"Suggest charts\"\n",
              "            style=\"display:none;\">\n",
              "\n",
              "<svg xmlns=\"http://www.w3.org/2000/svg\" height=\"24px\"viewBox=\"0 0 24 24\"\n",
              "     width=\"24px\">\n",
              "    <g>\n",
              "        <path d=\"M19 3H5c-1.1 0-2 .9-2 2v14c0 1.1.9 2 2 2h14c1.1 0 2-.9 2-2V5c0-1.1-.9-2-2-2zM9 17H7v-7h2v7zm4 0h-2V7h2v10zm4 0h-2v-4h2v4z\"/>\n",
              "    </g>\n",
              "</svg>\n",
              "  </button>\n",
              "\n",
              "<style>\n",
              "  .colab-df-quickchart {\n",
              "      --bg-color: #E8F0FE;\n",
              "      --fill-color: #1967D2;\n",
              "      --hover-bg-color: #E2EBFA;\n",
              "      --hover-fill-color: #174EA6;\n",
              "      --disabled-fill-color: #AAA;\n",
              "      --disabled-bg-color: #DDD;\n",
              "  }\n",
              "\n",
              "  [theme=dark] .colab-df-quickchart {\n",
              "      --bg-color: #3B4455;\n",
              "      --fill-color: #D2E3FC;\n",
              "      --hover-bg-color: #434B5C;\n",
              "      --hover-fill-color: #FFFFFF;\n",
              "      --disabled-bg-color: #3B4455;\n",
              "      --disabled-fill-color: #666;\n",
              "  }\n",
              "\n",
              "  .colab-df-quickchart {\n",
              "    background-color: var(--bg-color);\n",
              "    border: none;\n",
              "    border-radius: 50%;\n",
              "    cursor: pointer;\n",
              "    display: none;\n",
              "    fill: var(--fill-color);\n",
              "    height: 32px;\n",
              "    padding: 0;\n",
              "    width: 32px;\n",
              "  }\n",
              "\n",
              "  .colab-df-quickchart:hover {\n",
              "    background-color: var(--hover-bg-color);\n",
              "    box-shadow: 0 1px 2px rgba(60, 64, 67, 0.3), 0 1px 3px 1px rgba(60, 64, 67, 0.15);\n",
              "    fill: var(--button-hover-fill-color);\n",
              "  }\n",
              "\n",
              "  .colab-df-quickchart-complete:disabled,\n",
              "  .colab-df-quickchart-complete:disabled:hover {\n",
              "    background-color: var(--disabled-bg-color);\n",
              "    fill: var(--disabled-fill-color);\n",
              "    box-shadow: none;\n",
              "  }\n",
              "\n",
              "  .colab-df-spinner {\n",
              "    border: 2px solid var(--fill-color);\n",
              "    border-color: transparent;\n",
              "    border-bottom-color: var(--fill-color);\n",
              "    animation:\n",
              "      spin 1s steps(1) infinite;\n",
              "  }\n",
              "\n",
              "  @keyframes spin {\n",
              "    0% {\n",
              "      border-color: transparent;\n",
              "      border-bottom-color: var(--fill-color);\n",
              "      border-left-color: var(--fill-color);\n",
              "    }\n",
              "    20% {\n",
              "      border-color: transparent;\n",
              "      border-left-color: var(--fill-color);\n",
              "      border-top-color: var(--fill-color);\n",
              "    }\n",
              "    30% {\n",
              "      border-color: transparent;\n",
              "      border-left-color: var(--fill-color);\n",
              "      border-top-color: var(--fill-color);\n",
              "      border-right-color: var(--fill-color);\n",
              "    }\n",
              "    40% {\n",
              "      border-color: transparent;\n",
              "      border-right-color: var(--fill-color);\n",
              "      border-top-color: var(--fill-color);\n",
              "    }\n",
              "    60% {\n",
              "      border-color: transparent;\n",
              "      border-right-color: var(--fill-color);\n",
              "    }\n",
              "    80% {\n",
              "      border-color: transparent;\n",
              "      border-right-color: var(--fill-color);\n",
              "      border-bottom-color: var(--fill-color);\n",
              "    }\n",
              "    90% {\n",
              "      border-color: transparent;\n",
              "      border-bottom-color: var(--fill-color);\n",
              "    }\n",
              "  }\n",
              "</style>\n",
              "\n",
              "  <script>\n",
              "    async function quickchart(key) {\n",
              "      const quickchartButtonEl =\n",
              "        document.querySelector('#' + key + ' button');\n",
              "      quickchartButtonEl.disabled = true;  // To prevent multiple clicks.\n",
              "      quickchartButtonEl.classList.add('colab-df-spinner');\n",
              "      try {\n",
              "        const charts = await google.colab.kernel.invokeFunction(\n",
              "            'suggestCharts', [key], {});\n",
              "      } catch (error) {\n",
              "        console.error('Error during call to suggestCharts:', error);\n",
              "      }\n",
              "      quickchartButtonEl.classList.remove('colab-df-spinner');\n",
              "      quickchartButtonEl.classList.add('colab-df-quickchart-complete');\n",
              "    }\n",
              "    (() => {\n",
              "      let quickchartButtonEl =\n",
              "        document.querySelector('#df-8bed77f8-9296-4a3f-a477-18627ef7dc04 button');\n",
              "      quickchartButtonEl.style.display =\n",
              "        google.colab.kernel.accessAllowed ? 'block' : 'none';\n",
              "    })();\n",
              "  </script>\n",
              "</div>\n",
              "\n",
              "  <div id=\"id_db39ba5a-ccff-4495-95c2-59640959f533\">\n",
              "    <style>\n",
              "      .colab-df-generate {\n",
              "        background-color: #E8F0FE;\n",
              "        border: none;\n",
              "        border-radius: 50%;\n",
              "        cursor: pointer;\n",
              "        display: none;\n",
              "        fill: #1967D2;\n",
              "        height: 32px;\n",
              "        padding: 0 0 0 0;\n",
              "        width: 32px;\n",
              "      }\n",
              "\n",
              "      .colab-df-generate:hover {\n",
              "        background-color: #E2EBFA;\n",
              "        box-shadow: 0px 1px 2px rgba(60, 64, 67, 0.3), 0px 1px 3px 1px rgba(60, 64, 67, 0.15);\n",
              "        fill: #174EA6;\n",
              "      }\n",
              "\n",
              "      [theme=dark] .colab-df-generate {\n",
              "        background-color: #3B4455;\n",
              "        fill: #D2E3FC;\n",
              "      }\n",
              "\n",
              "      [theme=dark] .colab-df-generate:hover {\n",
              "        background-color: #434B5C;\n",
              "        box-shadow: 0px 1px 3px 1px rgba(0, 0, 0, 0.15);\n",
              "        filter: drop-shadow(0px 1px 2px rgba(0, 0, 0, 0.3));\n",
              "        fill: #FFFFFF;\n",
              "      }\n",
              "    </style>\n",
              "    <button class=\"colab-df-generate\" onclick=\"generateWithVariable('Age_targ')\"\n",
              "            title=\"Generate code using this dataframe.\"\n",
              "            style=\"display:none;\">\n",
              "\n",
              "  <svg xmlns=\"http://www.w3.org/2000/svg\" height=\"24px\"viewBox=\"0 0 24 24\"\n",
              "       width=\"24px\">\n",
              "    <path d=\"M7,19H8.4L18.45,9,17,7.55,7,17.6ZM5,21V16.75L18.45,3.32a2,2,0,0,1,2.83,0l1.4,1.43a1.91,1.91,0,0,1,.58,1.4,1.91,1.91,0,0,1-.58,1.4L9.25,21ZM18.45,9,17,7.55Zm-12,3A5.31,5.31,0,0,0,4.9,8.1,5.31,5.31,0,0,0,1,6.5,5.31,5.31,0,0,0,4.9,4.9,5.31,5.31,0,0,0,6.5,1,5.31,5.31,0,0,0,8.1,4.9,5.31,5.31,0,0,0,12,6.5,5.46,5.46,0,0,0,6.5,12Z\"/>\n",
              "  </svg>\n",
              "    </button>\n",
              "    <script>\n",
              "      (() => {\n",
              "      const buttonEl =\n",
              "        document.querySelector('#id_db39ba5a-ccff-4495-95c2-59640959f533 button.colab-df-generate');\n",
              "      buttonEl.style.display =\n",
              "        google.colab.kernel.accessAllowed ? 'block' : 'none';\n",
              "\n",
              "      buttonEl.onclick = () => {\n",
              "        google.colab.notebook.generateWithVariable('Age_targ');\n",
              "      }\n",
              "      })();\n",
              "    </script>\n",
              "  </div>\n",
              "\n",
              "    </div>\n",
              "  </div>\n"
            ],
            "application/vnd.google.colaboratory.intrinsic+json": {
              "type": "dataframe",
              "variable_name": "Age_targ",
              "summary": "{\n  \"name\": \"Age_targ\",\n  \"rows\": 7,\n  \"fields\": [\n    {\n      \"column\": \"age_group\",\n      \"properties\": {\n        \"dtype\": \"string\",\n        \"num_unique_values\": 7,\n        \"samples\": [\n          \"\",\n          \"100+\",\n          \"51-60\"\n        ],\n        \"semantic_type\": \"\",\n        \"description\": \"\"\n      }\n    },\n    {\n      \"column\": 0,\n      \"properties\": {\n        \"dtype\": \"number\",\n        \"std\": 1723,\n        \"min\": 12,\n        \"max\": 4245,\n        \"num_unique_values\": 7,\n        \"samples\": [\n          12,\n          298,\n          922\n        ],\n        \"semantic_type\": \"\",\n        \"description\": \"\"\n      }\n    },\n    {\n      \"column\": 1,\n      \"properties\": {\n        \"dtype\": \"number\",\n        \"std\": 234,\n        \"min\": 3,\n        \"max\": 619,\n        \"num_unique_values\": 7,\n        \"samples\": [\n          3,\n          77,\n          60\n        ],\n        \"semantic_type\": \"\",\n        \"description\": \"\"\n      }\n    }\n  ]\n}"
            }
          },
          "metadata": {},
          "execution_count": 25
        }
      ]
    },
    {
      "cell_type": "code",
      "source": [
        "negative_age = ins[ins['Age'] < 0]\n",
        "\n",
        "ins['Age'] = ins['Age'].apply(lambda x: np.nan if x < 0 else x)"
      ],
      "metadata": {
        "id": "yJ5aehf40Xuo"
      },
      "execution_count": null,
      "outputs": []
    },
    {
      "cell_type": "code",
      "source": [
        "def age_group(age):\n",
        "    if 0<= age <= 18:\n",
        "        return 'Under 18'\n",
        "    elif 19 <= age <= 30:\n",
        "        return '19-30'\n",
        "    elif 31 <= age <= 40:\n",
        "        return '31-40'\n",
        "    elif 41 <= age <= 60:\n",
        "        return '41-60'\n",
        "    elif 61 <= age <= 100:\n",
        "        return '51-60'\n",
        "    elif age > 100:\n",
        "        return '100+'\n",
        "    else:\n",
        "        return \"\"\n",
        "ins['age_group'] = ins['Age'].apply(age_group)"
      ],
      "metadata": {
        "id": "0YlIcgHd70e7"
      },
      "execution_count": null,
      "outputs": []
    },
    {
      "cell_type": "code",
      "source": [
        "ins_cleaned = ins.dropna(subset=['Age'])\n",
        "ins_cleaned"
      ],
      "metadata": {
        "colab": {
          "base_uri": "https://localhost:8080/"
        },
        "id": "3oUaktKOgNb9",
        "outputId": "8cf9ab27-35fb-4f6a-9fdc-6e3aa111792f"
      },
      "execution_count": null,
      "outputs": [
        {
          "output_type": "execute_result",
          "data": {
            "text/plain": [
              "               ID Policy Start Date Policy End Date  Gender    Age  \\\n",
              "0      ID_0040R73        2010-05-14      2011-05-13    Male   30.0   \n",
              "1      ID_0046BNK        2010-11-29      2011-11-28  Female   79.0   \n",
              "2      ID_005QMC3        2010-03-21      2011-03-20    Male   43.0   \n",
              "3      ID_0079OHW        2010-08-21      2011-08-20    Male    2.0   \n",
              "4      ID_00BRP63        2010-08-29      2010-12-31  Entity   20.0   \n",
              "...           ...               ...             ...     ...    ...   \n",
              "12074  ID_ZZA1SES        2010-05-25      2011-05-24  Female   30.0   \n",
              "12075  ID_ZZDAC3K        2010-10-03      2011-10-02  Female   59.0   \n",
              "12076  ID_ZZIU2XC        2010-10-10      2011-10-08    Male   34.0   \n",
              "12077  ID_ZZRQ1NF        2010-02-27      2011-02-26     NaN  120.0   \n",
              "12078  ID_ZZWRIIE        2010-07-01      2011-06-30  Female   46.0   \n",
              "\n",
              "      First Transaction Date  No_Pol Car_Category Subject_Car_Colour  \\\n",
              "0                 2010-05-14       1       Saloon              Black   \n",
              "1                 2010-11-29       1         JEEP               Grey   \n",
              "2                 2010-03-21       1       Saloon                Red   \n",
              "3                 2010-08-21       1          NaN                NaN   \n",
              "4                 2010-08-29       3          NaN                NaN   \n",
              "...                      ...     ...          ...                ...   \n",
              "12074             2010-05-25       1          NaN              Black   \n",
              "12075             2010-10-03       1          NaN                NaN   \n",
              "12076             2010-10-10       1          NaN                NaN   \n",
              "12077             2010-02-27       2          NaN              White   \n",
              "12078             2010-07-01       2         JEEP              Black   \n",
              "\n",
              "      Subject_Car_Make         LGA_Name        State  ProductName  target  \\\n",
              "0               TOYOTA              NaN          NaN  Car Classic       0   \n",
              "1               TOYOTA              NaN          NaN  Car Classic       1   \n",
              "2               TOYOTA              NaN          NaN  Car Classic       0   \n",
              "3                  NaN              NaN          NaN      CarSafe       0   \n",
              "4                  NaN            Lagos        Lagos        Muuve       1   \n",
              "...                ...              ...          ...          ...     ...   \n",
              "12074      Range Rover      Ibeju/Lekki  Ibeju-Lekki  Car Classic       1   \n",
              "12075              NaN              NaN          NaN  Car Classic       0   \n",
              "12076              NaN              NaN          NaN      CarSafe       0   \n",
              "12077           TOYOTA  Victoria Island        Lagos         CVTP       0   \n",
              "12078       Land Rover     Lagos Island        Lagos  Car Classic       0   \n",
              "\n",
              "      age_group  \n",
              "0         19-30  \n",
              "1         51-60  \n",
              "2         41-60  \n",
              "3      Under 18  \n",
              "4         19-30  \n",
              "...         ...  \n",
              "12074     19-30  \n",
              "12075     41-60  \n",
              "12076     31-40  \n",
              "12077      100+  \n",
              "12078     41-60  \n",
              "\n",
              "[12064 rows x 15 columns]"
            ],
            "text/html": [
              "\n",
              "  <div id=\"df-c9d80e6e-c127-4689-84d5-7c2e69119b5e\" class=\"colab-df-container\">\n",
              "    <div>\n",
              "<style scoped>\n",
              "    .dataframe tbody tr th:only-of-type {\n",
              "        vertical-align: middle;\n",
              "    }\n",
              "\n",
              "    .dataframe tbody tr th {\n",
              "        vertical-align: top;\n",
              "    }\n",
              "\n",
              "    .dataframe thead th {\n",
              "        text-align: right;\n",
              "    }\n",
              "</style>\n",
              "<table border=\"1\" class=\"dataframe\">\n",
              "  <thead>\n",
              "    <tr style=\"text-align: right;\">\n",
              "      <th></th>\n",
              "      <th>ID</th>\n",
              "      <th>Policy Start Date</th>\n",
              "      <th>Policy End Date</th>\n",
              "      <th>Gender</th>\n",
              "      <th>Age</th>\n",
              "      <th>First Transaction Date</th>\n",
              "      <th>No_Pol</th>\n",
              "      <th>Car_Category</th>\n",
              "      <th>Subject_Car_Colour</th>\n",
              "      <th>Subject_Car_Make</th>\n",
              "      <th>LGA_Name</th>\n",
              "      <th>State</th>\n",
              "      <th>ProductName</th>\n",
              "      <th>target</th>\n",
              "      <th>age_group</th>\n",
              "    </tr>\n",
              "  </thead>\n",
              "  <tbody>\n",
              "    <tr>\n",
              "      <th>0</th>\n",
              "      <td>ID_0040R73</td>\n",
              "      <td>2010-05-14</td>\n",
              "      <td>2011-05-13</td>\n",
              "      <td>Male</td>\n",
              "      <td>30.0</td>\n",
              "      <td>2010-05-14</td>\n",
              "      <td>1</td>\n",
              "      <td>Saloon</td>\n",
              "      <td>Black</td>\n",
              "      <td>TOYOTA</td>\n",
              "      <td>NaN</td>\n",
              "      <td>NaN</td>\n",
              "      <td>Car Classic</td>\n",
              "      <td>0</td>\n",
              "      <td>19-30</td>\n",
              "    </tr>\n",
              "    <tr>\n",
              "      <th>1</th>\n",
              "      <td>ID_0046BNK</td>\n",
              "      <td>2010-11-29</td>\n",
              "      <td>2011-11-28</td>\n",
              "      <td>Female</td>\n",
              "      <td>79.0</td>\n",
              "      <td>2010-11-29</td>\n",
              "      <td>1</td>\n",
              "      <td>JEEP</td>\n",
              "      <td>Grey</td>\n",
              "      <td>TOYOTA</td>\n",
              "      <td>NaN</td>\n",
              "      <td>NaN</td>\n",
              "      <td>Car Classic</td>\n",
              "      <td>1</td>\n",
              "      <td>51-60</td>\n",
              "    </tr>\n",
              "    <tr>\n",
              "      <th>2</th>\n",
              "      <td>ID_005QMC3</td>\n",
              "      <td>2010-03-21</td>\n",
              "      <td>2011-03-20</td>\n",
              "      <td>Male</td>\n",
              "      <td>43.0</td>\n",
              "      <td>2010-03-21</td>\n",
              "      <td>1</td>\n",
              "      <td>Saloon</td>\n",
              "      <td>Red</td>\n",
              "      <td>TOYOTA</td>\n",
              "      <td>NaN</td>\n",
              "      <td>NaN</td>\n",
              "      <td>Car Classic</td>\n",
              "      <td>0</td>\n",
              "      <td>41-60</td>\n",
              "    </tr>\n",
              "    <tr>\n",
              "      <th>3</th>\n",
              "      <td>ID_0079OHW</td>\n",
              "      <td>2010-08-21</td>\n",
              "      <td>2011-08-20</td>\n",
              "      <td>Male</td>\n",
              "      <td>2.0</td>\n",
              "      <td>2010-08-21</td>\n",
              "      <td>1</td>\n",
              "      <td>NaN</td>\n",
              "      <td>NaN</td>\n",
              "      <td>NaN</td>\n",
              "      <td>NaN</td>\n",
              "      <td>NaN</td>\n",
              "      <td>CarSafe</td>\n",
              "      <td>0</td>\n",
              "      <td>Under 18</td>\n",
              "    </tr>\n",
              "    <tr>\n",
              "      <th>4</th>\n",
              "      <td>ID_00BRP63</td>\n",
              "      <td>2010-08-29</td>\n",
              "      <td>2010-12-31</td>\n",
              "      <td>Entity</td>\n",
              "      <td>20.0</td>\n",
              "      <td>2010-08-29</td>\n",
              "      <td>3</td>\n",
              "      <td>NaN</td>\n",
              "      <td>NaN</td>\n",
              "      <td>NaN</td>\n",
              "      <td>Lagos</td>\n",
              "      <td>Lagos</td>\n",
              "      <td>Muuve</td>\n",
              "      <td>1</td>\n",
              "      <td>19-30</td>\n",
              "    </tr>\n",
              "    <tr>\n",
              "      <th>...</th>\n",
              "      <td>...</td>\n",
              "      <td>...</td>\n",
              "      <td>...</td>\n",
              "      <td>...</td>\n",
              "      <td>...</td>\n",
              "      <td>...</td>\n",
              "      <td>...</td>\n",
              "      <td>...</td>\n",
              "      <td>...</td>\n",
              "      <td>...</td>\n",
              "      <td>...</td>\n",
              "      <td>...</td>\n",
              "      <td>...</td>\n",
              "      <td>...</td>\n",
              "      <td>...</td>\n",
              "    </tr>\n",
              "    <tr>\n",
              "      <th>12074</th>\n",
              "      <td>ID_ZZA1SES</td>\n",
              "      <td>2010-05-25</td>\n",
              "      <td>2011-05-24</td>\n",
              "      <td>Female</td>\n",
              "      <td>30.0</td>\n",
              "      <td>2010-05-25</td>\n",
              "      <td>1</td>\n",
              "      <td>NaN</td>\n",
              "      <td>Black</td>\n",
              "      <td>Range Rover</td>\n",
              "      <td>Ibeju/Lekki</td>\n",
              "      <td>Ibeju-Lekki</td>\n",
              "      <td>Car Classic</td>\n",
              "      <td>1</td>\n",
              "      <td>19-30</td>\n",
              "    </tr>\n",
              "    <tr>\n",
              "      <th>12075</th>\n",
              "      <td>ID_ZZDAC3K</td>\n",
              "      <td>2010-10-03</td>\n",
              "      <td>2011-10-02</td>\n",
              "      <td>Female</td>\n",
              "      <td>59.0</td>\n",
              "      <td>2010-10-03</td>\n",
              "      <td>1</td>\n",
              "      <td>NaN</td>\n",
              "      <td>NaN</td>\n",
              "      <td>NaN</td>\n",
              "      <td>NaN</td>\n",
              "      <td>NaN</td>\n",
              "      <td>Car Classic</td>\n",
              "      <td>0</td>\n",
              "      <td>41-60</td>\n",
              "    </tr>\n",
              "    <tr>\n",
              "      <th>12076</th>\n",
              "      <td>ID_ZZIU2XC</td>\n",
              "      <td>2010-10-10</td>\n",
              "      <td>2011-10-08</td>\n",
              "      <td>Male</td>\n",
              "      <td>34.0</td>\n",
              "      <td>2010-10-10</td>\n",
              "      <td>1</td>\n",
              "      <td>NaN</td>\n",
              "      <td>NaN</td>\n",
              "      <td>NaN</td>\n",
              "      <td>NaN</td>\n",
              "      <td>NaN</td>\n",
              "      <td>CarSafe</td>\n",
              "      <td>0</td>\n",
              "      <td>31-40</td>\n",
              "    </tr>\n",
              "    <tr>\n",
              "      <th>12077</th>\n",
              "      <td>ID_ZZRQ1NF</td>\n",
              "      <td>2010-02-27</td>\n",
              "      <td>2011-02-26</td>\n",
              "      <td>NaN</td>\n",
              "      <td>120.0</td>\n",
              "      <td>2010-02-27</td>\n",
              "      <td>2</td>\n",
              "      <td>NaN</td>\n",
              "      <td>White</td>\n",
              "      <td>TOYOTA</td>\n",
              "      <td>Victoria Island</td>\n",
              "      <td>Lagos</td>\n",
              "      <td>CVTP</td>\n",
              "      <td>0</td>\n",
              "      <td>100+</td>\n",
              "    </tr>\n",
              "    <tr>\n",
              "      <th>12078</th>\n",
              "      <td>ID_ZZWRIIE</td>\n",
              "      <td>2010-07-01</td>\n",
              "      <td>2011-06-30</td>\n",
              "      <td>Female</td>\n",
              "      <td>46.0</td>\n",
              "      <td>2010-07-01</td>\n",
              "      <td>2</td>\n",
              "      <td>JEEP</td>\n",
              "      <td>Black</td>\n",
              "      <td>Land Rover</td>\n",
              "      <td>Lagos Island</td>\n",
              "      <td>Lagos</td>\n",
              "      <td>Car Classic</td>\n",
              "      <td>0</td>\n",
              "      <td>41-60</td>\n",
              "    </tr>\n",
              "  </tbody>\n",
              "</table>\n",
              "<p>12064 rows × 15 columns</p>\n",
              "</div>\n",
              "    <div class=\"colab-df-buttons\">\n",
              "\n",
              "  <div class=\"colab-df-container\">\n",
              "    <button class=\"colab-df-convert\" onclick=\"convertToInteractive('df-c9d80e6e-c127-4689-84d5-7c2e69119b5e')\"\n",
              "            title=\"Convert this dataframe to an interactive table.\"\n",
              "            style=\"display:none;\">\n",
              "\n",
              "  <svg xmlns=\"http://www.w3.org/2000/svg\" height=\"24px\" viewBox=\"0 -960 960 960\">\n",
              "    <path d=\"M120-120v-720h720v720H120Zm60-500h600v-160H180v160Zm220 220h160v-160H400v160Zm0 220h160v-160H400v160ZM180-400h160v-160H180v160Zm440 0h160v-160H620v160ZM180-180h160v-160H180v160Zm440 0h160v-160H620v160Z\"/>\n",
              "  </svg>\n",
              "    </button>\n",
              "\n",
              "  <style>\n",
              "    .colab-df-container {\n",
              "      display:flex;\n",
              "      gap: 12px;\n",
              "    }\n",
              "\n",
              "    .colab-df-convert {\n",
              "      background-color: #E8F0FE;\n",
              "      border: none;\n",
              "      border-radius: 50%;\n",
              "      cursor: pointer;\n",
              "      display: none;\n",
              "      fill: #1967D2;\n",
              "      height: 32px;\n",
              "      padding: 0 0 0 0;\n",
              "      width: 32px;\n",
              "    }\n",
              "\n",
              "    .colab-df-convert:hover {\n",
              "      background-color: #E2EBFA;\n",
              "      box-shadow: 0px 1px 2px rgba(60, 64, 67, 0.3), 0px 1px 3px 1px rgba(60, 64, 67, 0.15);\n",
              "      fill: #174EA6;\n",
              "    }\n",
              "\n",
              "    .colab-df-buttons div {\n",
              "      margin-bottom: 4px;\n",
              "    }\n",
              "\n",
              "    [theme=dark] .colab-df-convert {\n",
              "      background-color: #3B4455;\n",
              "      fill: #D2E3FC;\n",
              "    }\n",
              "\n",
              "    [theme=dark] .colab-df-convert:hover {\n",
              "      background-color: #434B5C;\n",
              "      box-shadow: 0px 1px 3px 1px rgba(0, 0, 0, 0.15);\n",
              "      filter: drop-shadow(0px 1px 2px rgba(0, 0, 0, 0.3));\n",
              "      fill: #FFFFFF;\n",
              "    }\n",
              "  </style>\n",
              "\n",
              "    <script>\n",
              "      const buttonEl =\n",
              "        document.querySelector('#df-c9d80e6e-c127-4689-84d5-7c2e69119b5e button.colab-df-convert');\n",
              "      buttonEl.style.display =\n",
              "        google.colab.kernel.accessAllowed ? 'block' : 'none';\n",
              "\n",
              "      async function convertToInteractive(key) {\n",
              "        const element = document.querySelector('#df-c9d80e6e-c127-4689-84d5-7c2e69119b5e');\n",
              "        const dataTable =\n",
              "          await google.colab.kernel.invokeFunction('convertToInteractive',\n",
              "                                                    [key], {});\n",
              "        if (!dataTable) return;\n",
              "\n",
              "        const docLinkHtml = 'Like what you see? Visit the ' +\n",
              "          '<a target=\"_blank\" href=https://colab.research.google.com/notebooks/data_table.ipynb>data table notebook</a>'\n",
              "          + ' to learn more about interactive tables.';\n",
              "        element.innerHTML = '';\n",
              "        dataTable['output_type'] = 'display_data';\n",
              "        await google.colab.output.renderOutput(dataTable, element);\n",
              "        const docLink = document.createElement('div');\n",
              "        docLink.innerHTML = docLinkHtml;\n",
              "        element.appendChild(docLink);\n",
              "      }\n",
              "    </script>\n",
              "  </div>\n",
              "\n",
              "\n",
              "<div id=\"df-9f89c8bf-b9d6-4621-8519-5ee4a50e2f40\">\n",
              "  <button class=\"colab-df-quickchart\" onclick=\"quickchart('df-9f89c8bf-b9d6-4621-8519-5ee4a50e2f40')\"\n",
              "            title=\"Suggest charts\"\n",
              "            style=\"display:none;\">\n",
              "\n",
              "<svg xmlns=\"http://www.w3.org/2000/svg\" height=\"24px\"viewBox=\"0 0 24 24\"\n",
              "     width=\"24px\">\n",
              "    <g>\n",
              "        <path d=\"M19 3H5c-1.1 0-2 .9-2 2v14c0 1.1.9 2 2 2h14c1.1 0 2-.9 2-2V5c0-1.1-.9-2-2-2zM9 17H7v-7h2v7zm4 0h-2V7h2v10zm4 0h-2v-4h2v4z\"/>\n",
              "    </g>\n",
              "</svg>\n",
              "  </button>\n",
              "\n",
              "<style>\n",
              "  .colab-df-quickchart {\n",
              "      --bg-color: #E8F0FE;\n",
              "      --fill-color: #1967D2;\n",
              "      --hover-bg-color: #E2EBFA;\n",
              "      --hover-fill-color: #174EA6;\n",
              "      --disabled-fill-color: #AAA;\n",
              "      --disabled-bg-color: #DDD;\n",
              "  }\n",
              "\n",
              "  [theme=dark] .colab-df-quickchart {\n",
              "      --bg-color: #3B4455;\n",
              "      --fill-color: #D2E3FC;\n",
              "      --hover-bg-color: #434B5C;\n",
              "      --hover-fill-color: #FFFFFF;\n",
              "      --disabled-bg-color: #3B4455;\n",
              "      --disabled-fill-color: #666;\n",
              "  }\n",
              "\n",
              "  .colab-df-quickchart {\n",
              "    background-color: var(--bg-color);\n",
              "    border: none;\n",
              "    border-radius: 50%;\n",
              "    cursor: pointer;\n",
              "    display: none;\n",
              "    fill: var(--fill-color);\n",
              "    height: 32px;\n",
              "    padding: 0;\n",
              "    width: 32px;\n",
              "  }\n",
              "\n",
              "  .colab-df-quickchart:hover {\n",
              "    background-color: var(--hover-bg-color);\n",
              "    box-shadow: 0 1px 2px rgba(60, 64, 67, 0.3), 0 1px 3px 1px rgba(60, 64, 67, 0.15);\n",
              "    fill: var(--button-hover-fill-color);\n",
              "  }\n",
              "\n",
              "  .colab-df-quickchart-complete:disabled,\n",
              "  .colab-df-quickchart-complete:disabled:hover {\n",
              "    background-color: var(--disabled-bg-color);\n",
              "    fill: var(--disabled-fill-color);\n",
              "    box-shadow: none;\n",
              "  }\n",
              "\n",
              "  .colab-df-spinner {\n",
              "    border: 2px solid var(--fill-color);\n",
              "    border-color: transparent;\n",
              "    border-bottom-color: var(--fill-color);\n",
              "    animation:\n",
              "      spin 1s steps(1) infinite;\n",
              "  }\n",
              "\n",
              "  @keyframes spin {\n",
              "    0% {\n",
              "      border-color: transparent;\n",
              "      border-bottom-color: var(--fill-color);\n",
              "      border-left-color: var(--fill-color);\n",
              "    }\n",
              "    20% {\n",
              "      border-color: transparent;\n",
              "      border-left-color: var(--fill-color);\n",
              "      border-top-color: var(--fill-color);\n",
              "    }\n",
              "    30% {\n",
              "      border-color: transparent;\n",
              "      border-left-color: var(--fill-color);\n",
              "      border-top-color: var(--fill-color);\n",
              "      border-right-color: var(--fill-color);\n",
              "    }\n",
              "    40% {\n",
              "      border-color: transparent;\n",
              "      border-right-color: var(--fill-color);\n",
              "      border-top-color: var(--fill-color);\n",
              "    }\n",
              "    60% {\n",
              "      border-color: transparent;\n",
              "      border-right-color: var(--fill-color);\n",
              "    }\n",
              "    80% {\n",
              "      border-color: transparent;\n",
              "      border-right-color: var(--fill-color);\n",
              "      border-bottom-color: var(--fill-color);\n",
              "    }\n",
              "    90% {\n",
              "      border-color: transparent;\n",
              "      border-bottom-color: var(--fill-color);\n",
              "    }\n",
              "  }\n",
              "</style>\n",
              "\n",
              "  <script>\n",
              "    async function quickchart(key) {\n",
              "      const quickchartButtonEl =\n",
              "        document.querySelector('#' + key + ' button');\n",
              "      quickchartButtonEl.disabled = true;  // To prevent multiple clicks.\n",
              "      quickchartButtonEl.classList.add('colab-df-spinner');\n",
              "      try {\n",
              "        const charts = await google.colab.kernel.invokeFunction(\n",
              "            'suggestCharts', [key], {});\n",
              "      } catch (error) {\n",
              "        console.error('Error during call to suggestCharts:', error);\n",
              "      }\n",
              "      quickchartButtonEl.classList.remove('colab-df-spinner');\n",
              "      quickchartButtonEl.classList.add('colab-df-quickchart-complete');\n",
              "    }\n",
              "    (() => {\n",
              "      let quickchartButtonEl =\n",
              "        document.querySelector('#df-9f89c8bf-b9d6-4621-8519-5ee4a50e2f40 button');\n",
              "      quickchartButtonEl.style.display =\n",
              "        google.colab.kernel.accessAllowed ? 'block' : 'none';\n",
              "    })();\n",
              "  </script>\n",
              "</div>\n",
              "\n",
              "  <div id=\"id_afb3b2fa-4082-4e1b-87ad-ec3ae4ff300a\">\n",
              "    <style>\n",
              "      .colab-df-generate {\n",
              "        background-color: #E8F0FE;\n",
              "        border: none;\n",
              "        border-radius: 50%;\n",
              "        cursor: pointer;\n",
              "        display: none;\n",
              "        fill: #1967D2;\n",
              "        height: 32px;\n",
              "        padding: 0 0 0 0;\n",
              "        width: 32px;\n",
              "      }\n",
              "\n",
              "      .colab-df-generate:hover {\n",
              "        background-color: #E2EBFA;\n",
              "        box-shadow: 0px 1px 2px rgba(60, 64, 67, 0.3), 0px 1px 3px 1px rgba(60, 64, 67, 0.15);\n",
              "        fill: #174EA6;\n",
              "      }\n",
              "\n",
              "      [theme=dark] .colab-df-generate {\n",
              "        background-color: #3B4455;\n",
              "        fill: #D2E3FC;\n",
              "      }\n",
              "\n",
              "      [theme=dark] .colab-df-generate:hover {\n",
              "        background-color: #434B5C;\n",
              "        box-shadow: 0px 1px 3px 1px rgba(0, 0, 0, 0.15);\n",
              "        filter: drop-shadow(0px 1px 2px rgba(0, 0, 0, 0.3));\n",
              "        fill: #FFFFFF;\n",
              "      }\n",
              "    </style>\n",
              "    <button class=\"colab-df-generate\" onclick=\"generateWithVariable('ins_cleaned')\"\n",
              "            title=\"Generate code using this dataframe.\"\n",
              "            style=\"display:none;\">\n",
              "\n",
              "  <svg xmlns=\"http://www.w3.org/2000/svg\" height=\"24px\"viewBox=\"0 0 24 24\"\n",
              "       width=\"24px\">\n",
              "    <path d=\"M7,19H8.4L18.45,9,17,7.55,7,17.6ZM5,21V16.75L18.45,3.32a2,2,0,0,1,2.83,0l1.4,1.43a1.91,1.91,0,0,1,.58,1.4,1.91,1.91,0,0,1-.58,1.4L9.25,21ZM18.45,9,17,7.55Zm-12,3A5.31,5.31,0,0,0,4.9,8.1,5.31,5.31,0,0,0,1,6.5,5.31,5.31,0,0,0,4.9,4.9,5.31,5.31,0,0,0,6.5,1,5.31,5.31,0,0,0,8.1,4.9,5.31,5.31,0,0,0,12,6.5,5.46,5.46,0,0,0,6.5,12Z\"/>\n",
              "  </svg>\n",
              "    </button>\n",
              "    <script>\n",
              "      (() => {\n",
              "      const buttonEl =\n",
              "        document.querySelector('#id_afb3b2fa-4082-4e1b-87ad-ec3ae4ff300a button.colab-df-generate');\n",
              "      buttonEl.style.display =\n",
              "        google.colab.kernel.accessAllowed ? 'block' : 'none';\n",
              "\n",
              "      buttonEl.onclick = () => {\n",
              "        google.colab.notebook.generateWithVariable('ins_cleaned');\n",
              "      }\n",
              "      })();\n",
              "    </script>\n",
              "  </div>\n",
              "\n",
              "    </div>\n",
              "  </div>\n"
            ],
            "application/vnd.google.colaboratory.intrinsic+json": {
              "type": "dataframe",
              "variable_name": "ins_cleaned",
              "summary": "{\n  \"name\": \"ins_cleaned\",\n  \"rows\": 12064,\n  \"fields\": [\n    {\n      \"column\": \"ID\",\n      \"properties\": {\n        \"dtype\": \"string\",\n        \"num_unique_values\": 12064,\n        \"samples\": [\n          \"ID_FC6JREW\",\n          \"ID_UH5L5H7\",\n          \"ID_F24URIB\"\n        ],\n        \"semantic_type\": \"\",\n        \"description\": \"\"\n      }\n    },\n    {\n      \"column\": \"Policy Start Date\",\n      \"properties\": {\n        \"dtype\": \"object\",\n        \"num_unique_values\": 376,\n        \"samples\": [\n          \"2010-06-13\",\n          \"2010-11-10\",\n          \"2010-07-16\"\n        ],\n        \"semantic_type\": \"\",\n        \"description\": \"\"\n      }\n    },\n    {\n      \"column\": \"Policy End Date\",\n      \"properties\": {\n        \"dtype\": \"object\",\n        \"num_unique_values\": 372,\n        \"samples\": [\n          \"2011-09-01\",\n          \"2011-06-19\",\n          \"2011-11-05\"\n        ],\n        \"semantic_type\": \"\",\n        \"description\": \"\"\n      }\n    },\n    {\n      \"column\": \"Gender\",\n      \"properties\": {\n        \"dtype\": \"category\",\n        \"num_unique_values\": 7,\n        \"samples\": [\n          \"Male\",\n          \"Female\",\n          \"NOT STATED\"\n        ],\n        \"semantic_type\": \"\",\n        \"description\": \"\"\n      }\n    },\n    {\n      \"column\": \"Age\",\n      \"properties\": {\n        \"dtype\": \"number\",\n        \"std\": 21.212550772347118,\n        \"min\": 0.0,\n        \"max\": 320.0,\n        \"num_unique_values\": 101,\n        \"samples\": [\n          13.0,\n          25.0,\n          66.0\n        ],\n        \"semantic_type\": \"\",\n        \"description\": \"\"\n      }\n    },\n    {\n      \"column\": \"First Transaction Date\",\n      \"properties\": {\n        \"dtype\": \"object\",\n        \"num_unique_values\": 376,\n        \"samples\": [\n          \"2010-06-13\",\n          \"2010-11-10\",\n          \"2010-07-16\"\n        ],\n        \"semantic_type\": \"\",\n        \"description\": \"\"\n      }\n    },\n    {\n      \"column\": \"No_Pol\",\n      \"properties\": {\n        \"dtype\": \"number\",\n        \"std\": 0,\n        \"min\": 1,\n        \"max\": 10,\n        \"num_unique_values\": 8,\n        \"samples\": [\n          3,\n          7,\n          1\n        ],\n        \"semantic_type\": \"\",\n        \"description\": \"\"\n      }\n    },\n    {\n      \"column\": \"Car_Category\",\n      \"properties\": {\n        \"dtype\": \"category\",\n        \"num_unique_values\": 16,\n        \"samples\": [\n          \"Saloon\",\n          \"JEEP\",\n          \"Mini Bus\"\n        ],\n        \"semantic_type\": \"\",\n        \"description\": \"\"\n      }\n    },\n    {\n      \"column\": \"Subject_Car_Colour\",\n      \"properties\": {\n        \"dtype\": \"category\",\n        \"num_unique_values\": 45,\n        \"samples\": [\n          \"Black & Orange\",\n          \"Yellow\",\n          \"Red & White\"\n        ],\n        \"semantic_type\": \"\",\n        \"description\": \"\"\n      }\n    },\n    {\n      \"column\": \"Subject_Car_Make\",\n      \"properties\": {\n        \"dtype\": \"category\",\n        \"num_unique_values\": 73,\n        \"samples\": [\n          \"Iveco\",\n          \"Tata\",\n          \"Scania\"\n        ],\n        \"semantic_type\": \"\",\n        \"description\": \"\"\n      }\n    },\n    {\n      \"column\": \"LGA_Name\",\n      \"properties\": {\n        \"dtype\": \"category\",\n        \"num_unique_values\": 258,\n        \"samples\": [\n          \"Kaduna North\",\n          \"Katagum\",\n          \"Abuja Municipal\"\n        ],\n        \"semantic_type\": \"\",\n        \"description\": \"\"\n      }\n    },\n    {\n      \"column\": \"State\",\n      \"properties\": {\n        \"dtype\": \"category\",\n        \"num_unique_values\": 111,\n        \"samples\": [\n          \"Bayelsa\",\n          \"Ibadan-East\",\n          \"Ogun\"\n        ],\n        \"semantic_type\": \"\",\n        \"description\": \"\"\n      }\n    },\n    {\n      \"column\": \"ProductName\",\n      \"properties\": {\n        \"dtype\": \"category\",\n        \"num_unique_values\": 9,\n        \"samples\": [\n          \"CarFlex\",\n          \"CarSafe\",\n          \"Motor Cycle\"\n        ],\n        \"semantic_type\": \"\",\n        \"description\": \"\"\n      }\n    },\n    {\n      \"column\": \"target\",\n      \"properties\": {\n        \"dtype\": \"number\",\n        \"std\": 0,\n        \"min\": 0,\n        \"max\": 1,\n        \"num_unique_values\": 2,\n        \"samples\": [\n          1,\n          0\n        ],\n        \"semantic_type\": \"\",\n        \"description\": \"\"\n      }\n    },\n    {\n      \"column\": \"age_group\",\n      \"properties\": {\n        \"dtype\": \"category\",\n        \"num_unique_values\": 6,\n        \"samples\": [\n          \"19-30\",\n          \"51-60\"\n        ],\n        \"semantic_type\": \"\",\n        \"description\": \"\"\n      }\n    }\n  ]\n}"
            }
          },
          "metadata": {},
          "execution_count": 28
        }
      ]
    },
    {
      "cell_type": "code",
      "source": [
        "ins['Age'].unique()"
      ],
      "metadata": {
        "colab": {
          "base_uri": "https://localhost:8080/"
        },
        "id": "13L9veADhLey",
        "outputId": "94401b68-a824-430e-d664-3d30a19ec043"
      },
      "execution_count": null,
      "outputs": [
        {
          "output_type": "execute_result",
          "data": {
            "text/plain": [
              "array([ 30.,  79.,  43.,   2.,  20.,  37.,  40.,  71.,  58.,  45.,  51.,\n",
              "       120.,  38.,  81.,  69.,  31.,  70.,  34.,   1.,  41.,  47.,  36.,\n",
              "        46.,  48.,  39.,  63.,  42.,  27.,  64.,  50.,  53.,  33.,  23.,\n",
              "        32.,  59.,  60.,  52.,  54.,  44.,  11.,  78.,  28.,  29.,  57.,\n",
              "        12.,  65.,  35.,  73.,  56.,  55.,  26.,  49.,  18.,  14.,  62.,\n",
              "        25.,  61.,  72.,  82.,  67.,   7.,  10.,  68.,  21.,  76.,  24.,\n",
              "        66.,   3.,  93.,  22.,  77.,  19.,  80.,   9.,   6.,  nan,  89.,\n",
              "        74.,  75.,  84.,  16.,  90., 140.,   8.,   5.,  13.,  86.,  15.,\n",
              "       320.,  83.,  85.,   4., 144., 112.,  17.,   0.,  88.,  87., 133.,\n",
              "       102., 128., 100.])"
            ]
          },
          "metadata": {},
          "execution_count": 27
        }
      ]
    },
    {
      "cell_type": "code",
      "source": [
        "ins.groupby('age_group')['target'].value_counts()"
      ],
      "metadata": {
        "colab": {
          "base_uri": "https://localhost:8080/",
          "height": 554
        },
        "id": "xuzfxUcCc03i",
        "outputId": "07931b2a-5437-40b2-a5eb-9bcaf4221946"
      },
      "execution_count": null,
      "outputs": [
        {
          "output_type": "execute_result",
          "data": {
            "text/plain": [
              "age_group  target\n",
              "           0           12\n",
              "           1            3\n",
              "100+       0          298\n",
              "           1           77\n",
              "19-30      0          933\n",
              "           1          188\n",
              "31-40      0         3724\n",
              "           1          619\n",
              "41-60      0         4245\n",
              "           1          449\n",
              "51-60      0          922\n",
              "           1           60\n",
              "Under 18   0          490\n",
              "           1           59\n",
              "Name: count, dtype: int64"
            ],
            "text/html": [
              "<div>\n",
              "<style scoped>\n",
              "    .dataframe tbody tr th:only-of-type {\n",
              "        vertical-align: middle;\n",
              "    }\n",
              "\n",
              "    .dataframe tbody tr th {\n",
              "        vertical-align: top;\n",
              "    }\n",
              "\n",
              "    .dataframe thead th {\n",
              "        text-align: right;\n",
              "    }\n",
              "</style>\n",
              "<table border=\"1\" class=\"dataframe\">\n",
              "  <thead>\n",
              "    <tr style=\"text-align: right;\">\n",
              "      <th></th>\n",
              "      <th></th>\n",
              "      <th>count</th>\n",
              "    </tr>\n",
              "    <tr>\n",
              "      <th>age_group</th>\n",
              "      <th>target</th>\n",
              "      <th></th>\n",
              "    </tr>\n",
              "  </thead>\n",
              "  <tbody>\n",
              "    <tr>\n",
              "      <th rowspan=\"2\" valign=\"top\"></th>\n",
              "      <th>0</th>\n",
              "      <td>12</td>\n",
              "    </tr>\n",
              "    <tr>\n",
              "      <th>1</th>\n",
              "      <td>3</td>\n",
              "    </tr>\n",
              "    <tr>\n",
              "      <th rowspan=\"2\" valign=\"top\">100+</th>\n",
              "      <th>0</th>\n",
              "      <td>298</td>\n",
              "    </tr>\n",
              "    <tr>\n",
              "      <th>1</th>\n",
              "      <td>77</td>\n",
              "    </tr>\n",
              "    <tr>\n",
              "      <th rowspan=\"2\" valign=\"top\">19-30</th>\n",
              "      <th>0</th>\n",
              "      <td>933</td>\n",
              "    </tr>\n",
              "    <tr>\n",
              "      <th>1</th>\n",
              "      <td>188</td>\n",
              "    </tr>\n",
              "    <tr>\n",
              "      <th rowspan=\"2\" valign=\"top\">31-40</th>\n",
              "      <th>0</th>\n",
              "      <td>3724</td>\n",
              "    </tr>\n",
              "    <tr>\n",
              "      <th>1</th>\n",
              "      <td>619</td>\n",
              "    </tr>\n",
              "    <tr>\n",
              "      <th rowspan=\"2\" valign=\"top\">41-60</th>\n",
              "      <th>0</th>\n",
              "      <td>4245</td>\n",
              "    </tr>\n",
              "    <tr>\n",
              "      <th>1</th>\n",
              "      <td>449</td>\n",
              "    </tr>\n",
              "    <tr>\n",
              "      <th rowspan=\"2\" valign=\"top\">51-60</th>\n",
              "      <th>0</th>\n",
              "      <td>922</td>\n",
              "    </tr>\n",
              "    <tr>\n",
              "      <th>1</th>\n",
              "      <td>60</td>\n",
              "    </tr>\n",
              "    <tr>\n",
              "      <th rowspan=\"2\" valign=\"top\">Under 18</th>\n",
              "      <th>0</th>\n",
              "      <td>490</td>\n",
              "    </tr>\n",
              "    <tr>\n",
              "      <th>1</th>\n",
              "      <td>59</td>\n",
              "    </tr>\n",
              "  </tbody>\n",
              "</table>\n",
              "</div><br><label><b>dtype:</b> int64</label>"
            ]
          },
          "metadata": {},
          "execution_count": 23
        }
      ]
    },
    {
      "cell_type": "code",
      "source": [
        "#2.\tHow does the count of different car categories (Car_Category) break down by policy outcome?\n",
        "category_outcome = ins.groupby('Car_Category')['target'].count()\n"
      ],
      "metadata": {
        "id": "76IrPSUPOa5T"
      },
      "execution_count": null,
      "outputs": []
    },
    {
      "cell_type": "code",
      "source": [
        "plt.figure(figsize=(6,6))\n",
        "category_outcome.plot(kind = 'bar', colormap ='viridis')\n",
        "plt.title('Count of different car categories by policy outcome')\n",
        "plt.ylabel('Policy Outcome')\n",
        "plt.xlabel('Car Category')\n",
        "plt.xticks(rotation= 80)\n",
        "plt.show()\n"
      ],
      "metadata": {
        "colab": {
          "base_uri": "https://localhost:8080/",
          "height": 717
        },
        "id": "UHy07JXhPVYp",
        "outputId": "636af19b-5b7b-48de-c298-b93417bba828"
      },
      "execution_count": null,
      "outputs": [
        {
          "output_type": "display_data",
          "data": {
            "text/plain": [
              "<Figure size 600x600 with 1 Axes>"
            ],
            "image/png": "[encoded data removed]"
          },
          "metadata": {}
        }
      ]
    },
    {
      "cell_type": "code",
      "source": [
        "ins.groupby('Car_Category')['target'].count()"
      ],
      "metadata": {
        "colab": {
          "base_uri": "https://localhost:8080/",
          "height": 617
        },
        "id": "06-LTxz6Tb5q",
        "outputId": "8e528ad2-3402-440d-be5e-a0064e4d7f01"
      },
      "execution_count": null,
      "outputs": [
        {
          "output_type": "execute_result",
          "data": {
            "text/plain": [
              "Car_Category\n",
              "Bus                          54\n",
              "CAMRY CAR HIRE                1\n",
              "JEEP                       2021\n",
              "Mini Bus                     36\n",
              "Mini Van                     13\n",
              "Motorcycle                   17\n",
              "Pick Up                      30\n",
              "Pick Up > 3 Tons              1\n",
              "Saloon                     6034\n",
              "Sedan                        12\n",
              "Shape Of Vehicle Chasis       6\n",
              "Station 4 Wheel               5\n",
              "Tipper Truck                  1\n",
              "Truck                        97\n",
              "Van                           3\n",
              "Wagon                        10\n",
              "Name: target, dtype: int64"
            ],
            "text/html": [
              "<div>\n",
              "<style scoped>\n",
              "    .dataframe tbody tr th:only-of-type {\n",
              "        vertical-align: middle;\n",
              "    }\n",
              "\n",
              "    .dataframe tbody tr th {\n",
              "        vertical-align: top;\n",
              "    }\n",
              "\n",
              "    .dataframe thead th {\n",
              "        text-align: right;\n",
              "    }\n",
              "</style>\n",
              "<table border=\"1\" class=\"dataframe\">\n",
              "  <thead>\n",
              "    <tr style=\"text-align: right;\">\n",
              "      <th></th>\n",
              "      <th>target</th>\n",
              "    </tr>\n",
              "    <tr>\n",
              "      <th>Car_Category</th>\n",
              "      <th></th>\n",
              "    </tr>\n",
              "  </thead>\n",
              "  <tbody>\n",
              "    <tr>\n",
              "      <th>Bus</th>\n",
              "      <td>54</td>\n",
              "    </tr>\n",
              "    <tr>\n",
              "      <th>CAMRY CAR HIRE</th>\n",
              "      <td>1</td>\n",
              "    </tr>\n",
              "    <tr>\n",
              "      <th>JEEP</th>\n",
              "      <td>2021</td>\n",
              "    </tr>\n",
              "    <tr>\n",
              "      <th>Mini Bus</th>\n",
              "      <td>36</td>\n",
              "    </tr>\n",
              "    <tr>\n",
              "      <th>Mini Van</th>\n",
              "      <td>13</td>\n",
              "    </tr>\n",
              "    <tr>\n",
              "      <th>Motorcycle</th>\n",
              "      <td>17</td>\n",
              "    </tr>\n",
              "    <tr>\n",
              "      <th>Pick Up</th>\n",
              "      <td>30</td>\n",
              "    </tr>\n",
              "    <tr>\n",
              "      <th>Pick Up &gt; 3 Tons</th>\n",
              "      <td>1</td>\n",
              "    </tr>\n",
              "    <tr>\n",
              "      <th>Saloon</th>\n",
              "      <td>6034</td>\n",
              "    </tr>\n",
              "    <tr>\n",
              "      <th>Sedan</th>\n",
              "      <td>12</td>\n",
              "    </tr>\n",
              "    <tr>\n",
              "      <th>Shape Of Vehicle Chasis</th>\n",
              "      <td>6</td>\n",
              "    </tr>\n",
              "    <tr>\n",
              "      <th>Station 4 Wheel</th>\n",
              "      <td>5</td>\n",
              "    </tr>\n",
              "    <tr>\n",
              "      <th>Tipper Truck</th>\n",
              "      <td>1</td>\n",
              "    </tr>\n",
              "    <tr>\n",
              "      <th>Truck</th>\n",
              "      <td>97</td>\n",
              "    </tr>\n",
              "    <tr>\n",
              "      <th>Van</th>\n",
              "      <td>3</td>\n",
              "    </tr>\n",
              "    <tr>\n",
              "      <th>Wagon</th>\n",
              "      <td>10</td>\n",
              "    </tr>\n",
              "  </tbody>\n",
              "</table>\n",
              "</div><br><label><b>dtype:</b> int64</label>"
            ]
          },
          "metadata": {},
          "execution_count": 32
        }
      ]
    },
    {
      "cell_type": "code",
      "source": [
        "#3.\tCan we visualize the number of policies (No_Pol) by Gender?\n",
        "plt.figure(figsize=(6,6))\n",
        "No_pol_Gender = ins.groupby('Gender')['No_Pol'].count()\n",
        "No_pol_Gender.plot(kind='bar', colormap=\"viridis\")\n",
        "plt.title('Number of Policies by Gender')\n",
        "plt.xlabel('Gender')\n",
        "plt.ylabel('Number of Policies')\n",
        "\n",
        "plt.show()"
      ],
      "metadata": {
        "colab": {
          "base_uri": "https://localhost:8080/",
          "height": 637
        },
        "id": "2833jl4yViO5",
        "outputId": "ef04fe0e-57b0-4677-c291-6b1e564dff37"
      },
      "execution_count": null,
      "outputs": [
        {
          "output_type": "display_data",
          "data": {
            "text/plain": [
              "<Figure size 600x600 with 1 Axes>"
            ],
            "image/png": "[encoded data removed]"
          },
          "metadata": {}
        }
      ]
    },
    {
      "cell_type": "code",
      "source": [
        "ins.groupby('Gender')['No_Pol'].count()"
      ],
      "metadata": {
        "colab": {
          "base_uri": "https://localhost:8080/",
          "height": 335
        },
        "id": "jUtvZ71RbqNT",
        "outputId": "9b49fdca-92b0-4ebd-ae55-1c276c9497fe"
      },
      "execution_count": null,
      "outputs": [
        {
          "output_type": "execute_result",
          "data": {
            "text/plain": [
              "Gender\n",
              "Entity           277\n",
              "Female          3327\n",
              "Joint Gender     223\n",
              "Male            7617\n",
              "NO GENDER         66\n",
              "NOT STATED       175\n",
              "SEX               35\n",
              "Name: No_Pol, dtype: int64"
            ],
            "text/html": [
              "<div>\n",
              "<style scoped>\n",
              "    .dataframe tbody tr th:only-of-type {\n",
              "        vertical-align: middle;\n",
              "    }\n",
              "\n",
              "    .dataframe tbody tr th {\n",
              "        vertical-align: top;\n",
              "    }\n",
              "\n",
              "    .dataframe thead th {\n",
              "        text-align: right;\n",
              "    }\n",
              "</style>\n",
              "<table border=\"1\" class=\"dataframe\">\n",
              "  <thead>\n",
              "    <tr style=\"text-align: right;\">\n",
              "      <th></th>\n",
              "      <th>No_Pol</th>\n",
              "    </tr>\n",
              "    <tr>\n",
              "      <th>Gender</th>\n",
              "      <th></th>\n",
              "    </tr>\n",
              "  </thead>\n",
              "  <tbody>\n",
              "    <tr>\n",
              "      <th>Entity</th>\n",
              "      <td>277</td>\n",
              "    </tr>\n",
              "    <tr>\n",
              "      <th>Female</th>\n",
              "      <td>3327</td>\n",
              "    </tr>\n",
              "    <tr>\n",
              "      <th>Joint Gender</th>\n",
              "      <td>223</td>\n",
              "    </tr>\n",
              "    <tr>\n",
              "      <th>Male</th>\n",
              "      <td>7617</td>\n",
              "    </tr>\n",
              "    <tr>\n",
              "      <th>NO GENDER</th>\n",
              "      <td>66</td>\n",
              "    </tr>\n",
              "    <tr>\n",
              "      <th>NOT STATED</th>\n",
              "      <td>175</td>\n",
              "    </tr>\n",
              "    <tr>\n",
              "      <th>SEX</th>\n",
              "      <td>35</td>\n",
              "    </tr>\n",
              "  </tbody>\n",
              "</table>\n",
              "</div><br><label><b>dtype:</b> int64</label>"
            ]
          },
          "metadata": {},
          "execution_count": 12
        }
      ]
    },
    {
      "cell_type": "code",
      "source": [
        "ins.columns\n"
      ],
      "metadata": {
        "colab": {
          "base_uri": "https://localhost:8080/"
        },
        "id": "j2oBiftJdVMU",
        "outputId": "ec1ac700-d0fe-4aba-b20e-d0dce39ba90e"
      },
      "execution_count": null,
      "outputs": [
        {
          "output_type": "execute_result",
          "data": {
            "text/plain": [
              "Index(['ID', 'Policy Start Date', 'Policy End Date', 'Gender', 'Age',\n",
              "       'First Transaction Date', 'No_Pol', 'Car_Category',\n",
              "       'Subject_Car_Colour', 'Subject_Car_Make', 'LGA_Name', 'State',\n",
              "       'ProductName', 'target', 'age_group', 'Year', 'Month', 'Month_Name'],\n",
              "      dtype='object')"
            ]
          },
          "metadata": {},
          "execution_count": 88
        }
      ]
    },
    {
      "cell_type": "code",
      "source": [
        "plt.figure(figsize=(9,6))\n",
        "Monthly_trend = ins.groupby('Month_Name')['No_Pol'].count().sort_values(ascending=False)\n",
        "Monthly_trend.plot(kind='line', colormap=\"viridis\")\n",
        "plt.title('Monthly Trend of Policies')\n",
        "plt.xlabel('Month')\n",
        "plt.ylabel('Number of Policies')\n",
        "plt.xticks(rotation=80)\n",
        "plt.show()"
      ],
      "metadata": {
        "colab": {
          "base_uri": "https://localhost:8080/",
          "height": 613
        },
        "id": "WN4CErEzij13",
        "outputId": "e2397218-6d2e-456c-ba41-5e03efe76656"
      },
      "execution_count": null,
      "outputs": [
        {
          "output_type": "display_data",
          "data": {
            "text/plain": [
              "<Figure size 900x600 with 1 Axes>"
            ],
            "image/png": "[encoded data removed]"
          },
          "metadata": {}
        }
      ]
    },
    {
      "cell_type": "code",
      "source": [
        "Monthly_trend"
      ],
      "metadata": {
        "colab": {
          "base_uri": "https://localhost:8080/",
          "height": 491
        },
        "id": "VHgu9GlPkfWt",
        "outputId": "af938771-bd76-444b-ea22-b41f1a2ce9bc"
      },
      "execution_count": null,
      "outputs": [
        {
          "output_type": "execute_result",
          "data": {
            "text/plain": [
              "Month_Name\n",
              "January      1168\n",
              "July         1130\n",
              "April        1108\n",
              "March        1080\n",
              "October      1016\n",
              "November     1001\n",
              "February      996\n",
              "December      971\n",
              "August        967\n",
              "September     939\n",
              "May           918\n",
              "June          785\n",
              "Name: No_Pol, dtype: int64"
            ],
            "text/html": [
              "<div>\n",
              "<style scoped>\n",
              "    .dataframe tbody tr th:only-of-type {\n",
              "        vertical-align: middle;\n",
              "    }\n",
              "\n",
              "    .dataframe tbody tr th {\n",
              "        vertical-align: top;\n",
              "    }\n",
              "\n",
              "    .dataframe thead th {\n",
              "        text-align: right;\n",
              "    }\n",
              "</style>\n",
              "<table border=\"1\" class=\"dataframe\">\n",
              "  <thead>\n",
              "    <tr style=\"text-align: right;\">\n",
              "      <th></th>\n",
              "      <th>No_Pol</th>\n",
              "    </tr>\n",
              "    <tr>\n",
              "      <th>Month_Name</th>\n",
              "      <th></th>\n",
              "    </tr>\n",
              "  </thead>\n",
              "  <tbody>\n",
              "    <tr>\n",
              "      <th>January</th>\n",
              "      <td>1168</td>\n",
              "    </tr>\n",
              "    <tr>\n",
              "      <th>July</th>\n",
              "      <td>1130</td>\n",
              "    </tr>\n",
              "    <tr>\n",
              "      <th>April</th>\n",
              "      <td>1108</td>\n",
              "    </tr>\n",
              "    <tr>\n",
              "      <th>March</th>\n",
              "      <td>1080</td>\n",
              "    </tr>\n",
              "    <tr>\n",
              "      <th>October</th>\n",
              "      <td>1016</td>\n",
              "    </tr>\n",
              "    <tr>\n",
              "      <th>November</th>\n",
              "      <td>1001</td>\n",
              "    </tr>\n",
              "    <tr>\n",
              "      <th>February</th>\n",
              "      <td>996</td>\n",
              "    </tr>\n",
              "    <tr>\n",
              "      <th>December</th>\n",
              "      <td>971</td>\n",
              "    </tr>\n",
              "    <tr>\n",
              "      <th>August</th>\n",
              "      <td>967</td>\n",
              "    </tr>\n",
              "    <tr>\n",
              "      <th>September</th>\n",
              "      <td>939</td>\n",
              "    </tr>\n",
              "    <tr>\n",
              "      <th>May</th>\n",
              "      <td>918</td>\n",
              "    </tr>\n",
              "    <tr>\n",
              "      <th>June</th>\n",
              "      <td>785</td>\n",
              "    </tr>\n",
              "  </tbody>\n",
              "</table>\n",
              "</div><br><label><b>dtype:</b> int64</label>"
            ]
          },
          "metadata": {},
          "execution_count": 51
        }
      ]
    },
    {
      "cell_type": "code",
      "source": [
        "#5.\tCan we create a bar chart showing the number of policies by ProductName?\n",
        "plt.figure(figsize=(10,6))\n",
        "no_pol_gender = ins.groupby('ProductName')['No_Pol'].count()\n",
        "no_pol_gender.plot(kind='bar', colormap=\"viridis\")\n",
        "plt.title('Number of Policies by Product Name')\n",
        "plt.xlabel('Number of Policies')\n",
        "plt.show()"
      ],
      "metadata": {
        "colab": {
          "base_uri": "https://localhost:8080/",
          "height": 676
        },
        "id": "-tgLg294jq08",
        "outputId": "0493b1cf-d7bb-4f3d-b414-fdb4017f7d2f"
      },
      "execution_count": null,
      "outputs": [
        {
          "output_type": "display_data",
          "data": {
            "text/plain": [
              "<Figure size 1000x600 with 1 Axes>"
            ],
            "image/png": "[encoded data removed]"
          },
          "metadata": {}
        }
      ]
    },
    {
      "cell_type": "code",
      "source": [
        "ins.groupby('ProductName')['No_Pol'].sum()"
      ],
      "metadata": {
        "colab": {
          "base_uri": "https://localhost:8080/",
          "height": 397
        },
        "id": "fWGIVa7GmeLl",
        "outputId": "c635d6ee-9a93-4da6-8541-ddb338deb43d"
      },
      "execution_count": null,
      "outputs": [
        {
          "output_type": "execute_result",
          "data": {
            "text/plain": [
              "ProductName\n",
              "CVTP                 848\n",
              "Car Classic         8481\n",
              "Car Plus             695\n",
              "Car Vintage           10\n",
              "CarFlex              192\n",
              "CarSafe             4132\n",
              "Customized Motor    1016\n",
              "Motor Cycle           86\n",
              "Muuve                330\n",
              "Name: No_Pol, dtype: int64"
            ],
            "text/html": [
              "<div>\n",
              "<style scoped>\n",
              "    .dataframe tbody tr th:only-of-type {\n",
              "        vertical-align: middle;\n",
              "    }\n",
              "\n",
              "    .dataframe tbody tr th {\n",
              "        vertical-align: top;\n",
              "    }\n",
              "\n",
              "    .dataframe thead th {\n",
              "        text-align: right;\n",
              "    }\n",
              "</style>\n",
              "<table border=\"1\" class=\"dataframe\">\n",
              "  <thead>\n",
              "    <tr style=\"text-align: right;\">\n",
              "      <th></th>\n",
              "      <th>No_Pol</th>\n",
              "    </tr>\n",
              "    <tr>\n",
              "      <th>ProductName</th>\n",
              "      <th></th>\n",
              "    </tr>\n",
              "  </thead>\n",
              "  <tbody>\n",
              "    <tr>\n",
              "      <th>CVTP</th>\n",
              "      <td>848</td>\n",
              "    </tr>\n",
              "    <tr>\n",
              "      <th>Car Classic</th>\n",
              "      <td>8481</td>\n",
              "    </tr>\n",
              "    <tr>\n",
              "      <th>Car Plus</th>\n",
              "      <td>695</td>\n",
              "    </tr>\n",
              "    <tr>\n",
              "      <th>Car Vintage</th>\n",
              "      <td>10</td>\n",
              "    </tr>\n",
              "    <tr>\n",
              "      <th>CarFlex</th>\n",
              "      <td>192</td>\n",
              "    </tr>\n",
              "    <tr>\n",
              "      <th>CarSafe</th>\n",
              "      <td>4132</td>\n",
              "    </tr>\n",
              "    <tr>\n",
              "      <th>Customized Motor</th>\n",
              "      <td>1016</td>\n",
              "    </tr>\n",
              "    <tr>\n",
              "      <th>Motor Cycle</th>\n",
              "      <td>86</td>\n",
              "    </tr>\n",
              "    <tr>\n",
              "      <th>Muuve</th>\n",
              "      <td>330</td>\n",
              "    </tr>\n",
              "  </tbody>\n",
              "</table>\n",
              "</div><br><label><b>dtype:</b> int64</label>"
            ]
          },
          "metadata": {},
          "execution_count": 100
        }
      ]
    },
    {
      "cell_type": "code",
      "source": [
        "#6.How does Car_Make distribution vary across the target variable?\n",
        "plt.figure()\n",
        "Car_targ = ins.groupby('Subject_Car_Make')['target'].value_counts().unstack()\n",
        "Car_targ.plot(kind = 'bar', colormap=\"viridis\")\n",
        "plt.title('Car_Make distribution across the target variable')\n",
        "plt.xlabel('Car_Make')\n",
        "plt.ylabel('Number of Policies')\n",
        "plt.gcf().set_size_inches(20, 5)\n",
        "plt.show()"
      ],
      "metadata": {
        "colab": {
          "base_uri": "https://localhost:8080/",
          "height": 499
        },
        "id": "AhX9C1E5na3d",
        "outputId": "50e561ca-81c3-4c9d-a7ba-3f603d006a45"
      },
      "execution_count": null,
      "outputs": [
        {
          "output_type": "display_data",
          "data": {
            "text/plain": [
              "<Figure size 640x480 with 0 Axes>"
            ]
          },
          "metadata": {}
        },
        {
          "output_type": "display_data",
          "data": {
            "text/plain": [
              "<Figure size 2000x500 with 1 Axes>"
            ],
            "image/png": "[encoded data removed]"
          },
          "metadata": {}
        }
      ]
    },
    {
      "cell_type": "code",
      "source": [
        "ins['Subject_Car_Make'].unique()"
      ],
      "metadata": {
        "colab": {
          "base_uri": "https://localhost:8080/"
        },
        "id": "h6AO4iDtq3Bd",
        "outputId": "44f3b3d8-8e4d-4477-c68b-a2bf642df611"
      },
      "execution_count": null,
      "outputs": [
        {
          "output_type": "execute_result",
          "data": {
            "text/plain": [
              "array(['TOYOTA', nan, 'REXTON', 'Lexus', 'Hyundai', 'Iveco', 'DAF',\n",
              "       'Honda', 'Mercedes', 'Jincheng', 'ACURA', 'Ford', 'Volkswagen',\n",
              "       'Nissan', '.', 'Pontiac', 'Range Rover', 'Kia', 'Mitsubishi',\n",
              "       'Scania', 'BMW', 'Infiniti', 'Renault', 'Volvo', 'Hummer', 'Mack',\n",
              "       'Grand Cherokee', 'Porsche', 'Peugeot', 'Land Rover', 'Chevrolet',\n",
              "       'Mazda', 'Man', 'Jeep', 'Audi', 'Suzuki', 'MINI COOPER', 'KA',\n",
              "       'As Attached', 'Innson', 'Isuzu', 'Skoda', 'Jaguar', 'Chrysler',\n",
              "       'Dodge', 'GMC', 'Land Rover.', 'Subaru', 'GAC', 'Fiat', 'Opel',\n",
              "       'Astra', 'Motorcycle', 'ZOYTE', 'Seat', 'FOTON', 'Howo', 'Lincoln',\n",
              "       'Rols Royce', 'CHANGAN', 'LIBERTY', 'ABG', 'Yamaha', 'Black',\n",
              "       'Tata', 'Ashok Leyland', 'Geely', 'Caddillac', 'Wrangler Jeep',\n",
              "       'Raston', 'MG', 'BRILLIANCE', 'Buik', 'COMMANDER', 'Bajaj'],\n",
              "      dtype=object)"
            ]
          },
          "metadata": {},
          "execution_count": 104
        }
      ]
    },
    {
      "cell_type": "code",
      "source": [
        "at = ins.groupby('Subject_Car_Make')['target'].value_counts()\n",
        "at"
      ],
      "metadata": {
        "colab": {
          "base_uri": "https://localhost:8080/",
          "height": 489
        },
        "id": "kVNvPkFGrVd4",
        "outputId": "1b7b9365-a07b-468e-a4a6-1f6cbbff4c6f"
      },
      "execution_count": null,
      "outputs": [
        {
          "output_type": "execute_result",
          "data": {
            "text/plain": [
              "Subject_Car_Make  target\n",
              ".                 0         30\n",
              "                  1         14\n",
              "ABG               0          1\n",
              "ACURA             0         58\n",
              "                  1          7\n",
              "                            ..\n",
              "Volvo             0         29\n",
              "                  1          8\n",
              "Wrangler Jeep     0          2\n",
              "Yamaha            0          1\n",
              "ZOYTE             0          1\n",
              "Name: count, Length: 106, dtype: int64"
            ],
            "text/html": [
              "<div>\n",
              "<style scoped>\n",
              "    .dataframe tbody tr th:only-of-type {\n",
              "        vertical-align: middle;\n",
              "    }\n",
              "\n",
              "    .dataframe tbody tr th {\n",
              "        vertical-align: top;\n",
              "    }\n",
              "\n",
              "    .dataframe thead th {\n",
              "        text-align: right;\n",
              "    }\n",
              "</style>\n",
              "<table border=\"1\" class=\"dataframe\">\n",
              "  <thead>\n",
              "    <tr style=\"text-align: right;\">\n",
              "      <th></th>\n",
              "      <th></th>\n",
              "      <th>count</th>\n",
              "    </tr>\n",
              "    <tr>\n",
              "      <th>Subject_Car_Make</th>\n",
              "      <th>target</th>\n",
              "      <th></th>\n",
              "    </tr>\n",
              "  </thead>\n",
              "  <tbody>\n",
              "    <tr>\n",
              "      <th rowspan=\"2\" valign=\"top\">.</th>\n",
              "      <th>0</th>\n",
              "      <td>30</td>\n",
              "    </tr>\n",
              "    <tr>\n",
              "      <th>1</th>\n",
              "      <td>14</td>\n",
              "    </tr>\n",
              "    <tr>\n",
              "      <th>ABG</th>\n",
              "      <th>0</th>\n",
              "      <td>1</td>\n",
              "    </tr>\n",
              "    <tr>\n",
              "      <th rowspan=\"2\" valign=\"top\">ACURA</th>\n",
              "      <th>0</th>\n",
              "      <td>58</td>\n",
              "    </tr>\n",
              "    <tr>\n",
              "      <th>1</th>\n",
              "      <td>7</td>\n",
              "    </tr>\n",
              "    <tr>\n",
              "      <th>...</th>\n",
              "      <th>...</th>\n",
              "      <td>...</td>\n",
              "    </tr>\n",
              "    <tr>\n",
              "      <th rowspan=\"2\" valign=\"top\">Volvo</th>\n",
              "      <th>0</th>\n",
              "      <td>29</td>\n",
              "    </tr>\n",
              "    <tr>\n",
              "      <th>1</th>\n",
              "      <td>8</td>\n",
              "    </tr>\n",
              "    <tr>\n",
              "      <th>Wrangler Jeep</th>\n",
              "      <th>0</th>\n",
              "      <td>2</td>\n",
              "    </tr>\n",
              "    <tr>\n",
              "      <th>Yamaha</th>\n",
              "      <th>0</th>\n",
              "      <td>1</td>\n",
              "    </tr>\n",
              "    <tr>\n",
              "      <th>ZOYTE</th>\n",
              "      <th>0</th>\n",
              "      <td>1</td>\n",
              "    </tr>\n",
              "  </tbody>\n",
              "</table>\n",
              "<p>106 rows × 1 columns</p>\n",
              "</div><br><label><b>dtype:</b> int64</label>"
            ]
          },
          "metadata": {},
          "execution_count": 70
        }
      ]
    },
    {
      "cell_type": "code",
      "source": [
        "ins['State'].unique()"
      ],
      "metadata": {
        "colab": {
          "base_uri": "https://localhost:8080/"
        },
        "id": "XIKup6c8ui-M",
        "outputId": "85ca9e4c-35b5-43d7-a627-0bc4f308fbdc"
      },
      "execution_count": null,
      "outputs": [
        {
          "output_type": "execute_result",
          "data": {
            "text/plain": [
              "array([nan, 'Lagos', 'Benue', 'Eti-Osa', 'Delta', 'Ogun',\n",
              "       'Abuja-Municipal', 'Oshodi-Isolo', 'Ibeju-Lekki', 'Ibadan-West',\n",
              "       'Obia-Akpor', 'Ibadan-East', 'Kaduna-South', 'Amuwo-Odofin',\n",
              "       'Anambra', 'Rivers', 'Niger-State', 'Edo', 'Akwa-Ibom',\n",
              "       'ENUGU-EAST', 'Abuja', 'Kaduna', 'Esan-West', 'Obafemi-Owode',\n",
              "       'Orile-Iganmu', 'Ifako-Ijaye', 'Ibadan-North', 'Imo', 'Jos-North',\n",
              "       'Ondo-West', 'Kaduna-North', 'Aniocha-South', 'Awka-South',\n",
              "       'Ile-Oluji', 'Ijebu-Ode', 'Port-Harcourt', 'Nnewi-North',\n",
              "       'Aboh-Mbaise', 'Oyo', 'Akoko-West', 'Warri-Central', 'Cross-River',\n",
              "       'Jos-South', 'Onitsha-North', 'Osun', 'Ajeromi-Ifelodun',\n",
              "       'Kano-Municipal', 'Ife-Central', 'Ilorin-West', 'Lagelu-North',\n",
              "       'Owerri-Municipal', 'Nsit-Ubium', 'Udi-Agwu', 'Essien-Udim',\n",
              "       'Owerri-West', 'Ondo', 'Ogbmosho-South', 'Umuahia-South',\n",
              "       'ABULE-EGBA', 'Enugu-North', 'Ovia-SouthWest', 'Kebbi',\n",
              "       'Ajegunle-State', 'Ekiti-West', 'Ogun-Waterside', 'Ife-North',\n",
              "       'Anambra-East', 'Nasarawa', 'Etsako-West', 'Kwara', 'Aba-North',\n",
              "       'Awka-North', 'Ibarapa-Central', 'Idemili-North', 'Ogba-Ndoni',\n",
              "       'Calabar-Municipality', 'AJAO-ESTATE', 'Ekiti-East', 'Gombe',\n",
              "       'Bayelsa', 'Ado-Ota', 'Oyo-East', 'Ilorin-East', 'Ilesha-West',\n",
              "       'Central-Abuja', 'Kano', 'Owerri-North', 'Abia', 'Kogi',\n",
              "       'Ilesha-East', 'Esan-Central', 'Isoko-south', 'Ethiope-East',\n",
              "       'QuaAn-Pan', 'Warri-North', 'Ado-Ekiti', 'Bauchi', 'Ijebu-East',\n",
              "       'Onitsha-South', 'Ughelli-North', 'Warri-South', 'Ebonyi',\n",
              "       'Oyo-West', 'Aba-South', 'N-A', 'Isoko-North', 'Oshimili-North',\n",
              "       'Ndokwa-East', 'Nnewi-South', 'ENUGU-SOUTH', 'Ijebu-North',\n",
              "       'Asari-Toru'], dtype=object)"
            ]
          },
          "metadata": {},
          "execution_count": 71
        }
      ]
    },
    {
      "cell_type": "code",
      "source": [
        "#7.\tCan we visualize the geographic distribution of policies by State?\n",
        "state_pol = ins.groupby('State')['No_Pol'].count()\n",
        "plt.figure(figsize=(25,10))\n",
        "state_pol.plot(kind='line', colormap=\"viridis\")\n",
        "plt.title('Geographic Distribution of Policies by State')\n",
        "plt.xlabel('State')\n",
        "plt.ylabel('Number of Policies')\n",
        "plt.xticks(ticks=range(len(state_pol.index)), labels=state_pol.index,rotation=90)\n",
        "plt"
      ],
      "metadata": {
        "id": "LnyTrFtGvH8B",
        "colab": {
          "base_uri": "https://localhost:8080/",
          "height": 1000
        },
        "outputId": "e736f057-8300-4fd3-ddbe-ef4503978793"
      },
      "execution_count": null,
      "outputs": [
        {
          "output_type": "execute_result",
          "data": {
            "text/plain": [
              "<module 'matplotlib.pyplot' from '/usr/local/lib/python3.10/dist-packages/matplotlib/pyplot.py'>"
            ]
          },
          "metadata": {},
          "execution_count": 5
        },
        {
          "output_type": "display_data",
          "data": {
            "text/plain": [
              "<Figure size 2500x1000 with 1 Axes>"
            ],
            "image/png": "[encoded data removed]"
          },
          "metadata": {}
        }
      ]
    },
    {
      "cell_type": "code",
      "source": [
        "#8.\tWhat is the relationship between No_Pol and Age in a scatter plot?\n",
        "sns.scatterplot(x='No_Pol', y = 'age_group', data = ins)\n",
        "plt.title('Relationship between No_Pol and Age')\n",
        "plt.xlabel('No_Pol')\n",
        "plt.ylabel('Age')\n",
        "plt.show()"
      ],
      "metadata": {
        "colab": {
          "base_uri": "https://localhost:8080/",
          "height": 472
        },
        "id": "h2h0CtwCNQuF",
        "outputId": "80b1e2fc-6b14-4151-a4e3-329a618e8c58"
      },
      "execution_count": null,
      "outputs": [
        {
          "output_type": "display_data",
          "data": {
            "text/plain": [
              "<Figure size 640x480 with 1 Axes>"
            ],
            "image/png": "[encoded data removed]"
          },
          "metadata": {}
        }
      ]
    }
  ],
  "metadata": {
    "colab": {
      "provenance": []
    },
    "kernelspec": {
      "display_name": "Python 3",
      "name": "python3"
    },
    "language_info": {
      "name": "python"
    }
  },
  "nbformat": 4,
  "nbformat_minor": 0
}